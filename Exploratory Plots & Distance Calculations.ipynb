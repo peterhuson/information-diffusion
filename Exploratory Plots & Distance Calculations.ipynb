{
 "cells": [
  {
   "cell_type": "markdown",
   "metadata": {},
   "source": [
    "## Exploratory Plots of Digg Data"
   ]
  },
  {
   "cell_type": "code",
   "execution_count": 1,
   "metadata": {},
   "outputs": [],
   "source": [
    "import numpy as np\n",
    "import pandas as pd\n",
    "import networkx as nx\n",
    "import matplotlib.pyplot as plt\n",
    "\n",
    "# load in data\n",
    "# votes = np.load(\"digg_votes.npy\")\n",
    "# friends = np.load(\"digg_friends.npy\")"
   ]
  },
  {
   "cell_type": "code",
   "execution_count": 2,
   "metadata": {},
   "outputs": [],
   "source": [
    "# extract all network information (compact dataframe of who is friends with whom)\n",
    "# from https://github.com/geopanag/IMINFECTOR/blob/master/digg_preprocessing.py\n",
    "def extract_network(file):\n",
    "    friends = pd.read_csv(file,header=None)\n",
    "    \n",
    "    #--------- Remove self friendships\n",
    "    friends = friends[friends[2]!=friends[3]]\n",
    "    \n",
    "    #--------- Repeat the reciprocal edges and append them\n",
    "    reciprocal = friends[friends[0]==1]\n",
    "    friends = friends.drop(0,1)\n",
    "    reciprocal = reciprocal.drop(0,1)\n",
    "    \n",
    "    #---- Create the reciprocal edge for each pair\n",
    "    tmp = reciprocal[2].copy()\n",
    "    reciprocal[2] = reciprocal[3]\n",
    "    reciprocal[3] = tmp\n",
    "\n",
    "    #--------- Find the edges that already exist in the dataset as reciprocal, and remove them, \n",
    "    #--------- to avoid overwriting the currect time of the reciprocal edges that already exist\n",
    "    to_remove = reciprocal.reset_index().merge(friends,left_on=[2,3],right_on=[2,3]).set_index('index').index\n",
    "    reciprocal = reciprocal.drop(to_remove)\n",
    "    \n",
    "    friends = friends.append(reciprocal)\n",
    "    friends[friends.duplicated([2,3],keep=False)] #-- this should be empty\n",
    "\n",
    "    #----------- Store the weighted follow network\n",
    "    friends.columns = [\"time\",\"a\",\"b\"]\n",
    "    friends = friends[[\"a\",\"b\",\"time\"]]\n",
    "    return friends\n",
    "#     friends.to_csv(\"../digg_network.txt\",index=False,sep=\" \",header=False)\n",
    "\n",
    "\n",
    "# def extract_cascades(file):\n",
    "#     #----------- Derive and store the train and test cascades\n",
    "#     votes = pd.read_csv(file,header=None)\n",
    "#     votes.columns = [\"time\",\"user\",\"post\"]\n",
    "#     votes = votes.sort_values(by=[\"time\"])\n",
    "    \n",
    "#     #---- Find the threshold after which the cascades are test cascades (final 20% of cascades)\n",
    "#     start_times = votes.groupby(\"post\")[\"time\"].min() #--- take into consideration only the starting time of each cascade\n",
    "#     start_times = start_times.sort_values()\n",
    "#     no_test_cascades = round(20*len(start_times)/100)\n",
    "#     threshold = min(start_times.tail(no_test_cascades))\n",
    "#     #sum(start_times<threshold )/start_times.shape[0]\n",
    "    \n",
    "#     f_train = open(\"train_cascades.txt\",\"w\")\n",
    "#     f_test = open(\"test_cascades.txt\",\"w\")\n",
    "\n",
    "#     #--------- For each cascade\n",
    "#     for i in votes[\"post\"].unique():\n",
    "#         print(i)\n",
    "#         sub = votes[votes[\"post\"]==i]\n",
    "#         s = \"\"\n",
    "    \n",
    "#         #---- id:time, id:time etc...\n",
    "#         for post in sub.sort_values(by=['time']).iterrows():\n",
    "#             s = s+str(post[1][\"user\"])+\" \"+str(post[1][\"time\"])+\";\"#\":\"+str(post[1][\"time\"])+\",\"\n",
    "#         s = s[:-1]\n",
    "    \n",
    "#         #---- Check if it has started before or after the threshold\n",
    "#         if(min(sub[\"time\"])<threshold):\n",
    "#             f_train.write(s+\"\\n\")\n",
    "#         else:\n",
    "#             f_test.write(s+\"\\n\")\n",
    "#     f_train.close()\n",
    "#     f_test.close()"
   ]
  },
  {
   "cell_type": "code",
   "execution_count": 3,
   "metadata": {
    "scrolled": true
   },
   "outputs": [
    {
     "data": {
      "text/html": [
       "<div>\n",
       "<style scoped>\n",
       "    .dataframe tbody tr th:only-of-type {\n",
       "        vertical-align: middle;\n",
       "    }\n",
       "\n",
       "    .dataframe tbody tr th {\n",
       "        vertical-align: top;\n",
       "    }\n",
       "\n",
       "    .dataframe thead th {\n",
       "        text-align: right;\n",
       "    }\n",
       "</style>\n",
       "<table border=\"1\" class=\"dataframe\">\n",
       "  <thead>\n",
       "    <tr style=\"text-align: right;\">\n",
       "      <th></th>\n",
       "      <th>source</th>\n",
       "      <th>target</th>\n",
       "      <th>time</th>\n",
       "    </tr>\n",
       "  </thead>\n",
       "  <tbody>\n",
       "    <tr>\n",
       "      <th>count</th>\n",
       "      <td>2.251166e+06</td>\n",
       "      <td>2.251166e+06</td>\n",
       "      <td>2.251166e+06</td>\n",
       "    </tr>\n",
       "    <tr>\n",
       "      <th>mean</th>\n",
       "      <td>1.687565e+05</td>\n",
       "      <td>1.704176e+05</td>\n",
       "      <td>1.218754e+09</td>\n",
       "    </tr>\n",
       "    <tr>\n",
       "      <th>std</th>\n",
       "      <td>9.800988e+04</td>\n",
       "      <td>9.838381e+04</td>\n",
       "      <td>4.173192e+07</td>\n",
       "    </tr>\n",
       "    <tr>\n",
       "      <th>min</th>\n",
       "      <td>1.000000e+00</td>\n",
       "      <td>1.000000e+00</td>\n",
       "      <td>0.000000e+00</td>\n",
       "    </tr>\n",
       "    <tr>\n",
       "      <th>25%</th>\n",
       "      <td>8.286500e+04</td>\n",
       "      <td>8.489300e+04</td>\n",
       "      <td>1.207766e+09</td>\n",
       "    </tr>\n",
       "    <tr>\n",
       "      <th>50%</th>\n",
       "      <td>1.675950e+05</td>\n",
       "      <td>1.698670e+05</td>\n",
       "      <td>1.223239e+09</td>\n",
       "    </tr>\n",
       "    <tr>\n",
       "      <th>75%</th>\n",
       "      <td>2.549290e+05</td>\n",
       "      <td>2.576040e+05</td>\n",
       "      <td>1.236996e+09</td>\n",
       "    </tr>\n",
       "    <tr>\n",
       "      <th>max</th>\n",
       "      <td>3.362250e+05</td>\n",
       "      <td>3.362250e+05</td>\n",
       "      <td>1.247033e+09</td>\n",
       "    </tr>\n",
       "  </tbody>\n",
       "</table>\n",
       "</div>"
      ],
      "text/plain": [
       "             source        target          time\n",
       "count  2.251166e+06  2.251166e+06  2.251166e+06\n",
       "mean   1.687565e+05  1.704176e+05  1.218754e+09\n",
       "std    9.800988e+04  9.838381e+04  4.173192e+07\n",
       "min    1.000000e+00  1.000000e+00  0.000000e+00\n",
       "25%    8.286500e+04  8.489300e+04  1.207766e+09\n",
       "50%    1.675950e+05  1.698670e+05  1.223239e+09\n",
       "75%    2.549290e+05  2.576040e+05  1.236996e+09\n",
       "max    3.362250e+05  3.362250e+05  1.247033e+09"
      ]
     },
     "execution_count": 3,
     "metadata": {},
     "output_type": "execute_result"
    }
   ],
   "source": [
    "file_friends = \"digg2009/digg_friends.csv\"\n",
    "file_votes = \"digg2009/digg_votes.csv\"\n",
    "\n",
    "friendships_df = extract_network(file_friends)\n",
    "friendships_df = friendships_df.rename(columns={'a': 'source', 'b': 'target', 'time':'time'})\n",
    "\n",
    "friendships_df.describe()\n",
    "# friendships_df.to_csv(\"digg2009/digg_friends_preprocessed.csv\", index=False)\n",
    "# digg_extract_cascades(file_casc)"
   ]
  },
  {
   "cell_type": "code",
   "execution_count": 4,
   "metadata": {
    "scrolled": true
   },
   "outputs": [
    {
     "data": {
      "text/html": [
       "<div>\n",
       "<style scoped>\n",
       "    .dataframe tbody tr th:only-of-type {\n",
       "        vertical-align: middle;\n",
       "    }\n",
       "\n",
       "    .dataframe tbody tr th {\n",
       "        vertical-align: top;\n",
       "    }\n",
       "\n",
       "    .dataframe thead th {\n",
       "        text-align: right;\n",
       "    }\n",
       "</style>\n",
       "<table border=\"1\" class=\"dataframe\">\n",
       "  <thead>\n",
       "    <tr style=\"text-align: right;\">\n",
       "      <th></th>\n",
       "      <th>source</th>\n",
       "      <th>target</th>\n",
       "    </tr>\n",
       "  </thead>\n",
       "  <tbody>\n",
       "    <tr>\n",
       "      <th>0</th>\n",
       "      <td>336224</td>\n",
       "      <td>266641</td>\n",
       "    </tr>\n",
       "    <tr>\n",
       "      <th>1</th>\n",
       "      <td>336224</td>\n",
       "      <td>215086</td>\n",
       "    </tr>\n",
       "    <tr>\n",
       "      <th>2</th>\n",
       "      <td>336224</td>\n",
       "      <td>151094</td>\n",
       "    </tr>\n",
       "    <tr>\n",
       "      <th>3</th>\n",
       "      <td>336224</td>\n",
       "      <td>59378</td>\n",
       "    </tr>\n",
       "    <tr>\n",
       "      <th>4</th>\n",
       "      <td>336224</td>\n",
       "      <td>8547</td>\n",
       "    </tr>\n",
       "  </tbody>\n",
       "</table>\n",
       "</div>"
      ],
      "text/plain": [
       "   source  target\n",
       "0  336224  266641\n",
       "1  336224  215086\n",
       "2  336224  151094\n",
       "3  336224   59378\n",
       "4  336224    8547"
      ]
     },
     "execution_count": 4,
     "metadata": {},
     "output_type": "execute_result"
    }
   ],
   "source": [
    "friendship_plot_df = friendships_df[['source', 'target']]\n",
    "friendship_plot_smol = friendship_plot_df.head(150)\n",
    "friendship_plot_smol.head()"
   ]
  },
  {
   "cell_type": "code",
   "execution_count": 5,
   "metadata": {
    "scrolled": false
   },
   "outputs": [
    {
     "name": "stderr",
     "output_type": "stream",
     "text": [
      "/Users/mdong/anaconda3/lib/python3.5/site-packages/networkx/drawing/nx_pylab.py:611: MatplotlibDeprecationWarning: isinstance(..., numbers.Number)\n",
      "  if cb.is_numlike(alpha):\n"
     ]
    },
    {
     "data": {
      "image/png": "[encoded data removed]",
      "text/plain": [
       "<Figure size 432x288 with 1 Axes>"
      ]
     },
     "metadata": {},
     "output_type": "display_data"
    }
   ],
   "source": [
    "# plot of directed graph showing all friendships (currently taking a random sample due to size issues)\n",
    "G = nx.convert_matrix.from_pandas_edgelist(friendship_plot_smol)\n",
    "options = {\n",
    "    \"node_color\": \"black\",\n",
    "    \"node_size\": 10,\n",
    "    \"linewidths\": 0,\n",
    "    \"width\": 0.1,\n",
    "}\n",
    "nx.draw(G, **options)\n",
    "plt.show()"
   ]
  },
  {
   "cell_type": "markdown",
   "metadata": {},
   "source": [
    "###### currently, scability of networkx is an issue; look into https://graph-tool.skewed.de/ if we want to graph more points"
   ]
  },
  {
   "cell_type": "markdown",
   "metadata": {},
   "source": [
    "## Plot of social network graph for one story"
   ]
  },
  {
   "cell_type": "code",
   "execution_count": 6,
   "metadata": {},
   "outputs": [
    {
     "data": {
      "text/html": [
       "<div>\n",
       "<style scoped>\n",
       "    .dataframe tbody tr th:only-of-type {\n",
       "        vertical-align: middle;\n",
       "    }\n",
       "\n",
       "    .dataframe tbody tr th {\n",
       "        vertical-align: top;\n",
       "    }\n",
       "\n",
       "    .dataframe thead th {\n",
       "        text-align: right;\n",
       "    }\n",
       "</style>\n",
       "<table border=\"1\" class=\"dataframe\">\n",
       "  <thead>\n",
       "    <tr style=\"text-align: right;\">\n",
       "      <th></th>\n",
       "      <th>time</th>\n",
       "      <th>user</th>\n",
       "      <th>post</th>\n",
       "    </tr>\n",
       "  </thead>\n",
       "  <tbody>\n",
       "    <tr>\n",
       "      <th>count</th>\n",
       "      <td>3.018197e+06</td>\n",
       "      <td>3.018197e+06</td>\n",
       "      <td>3.018197e+06</td>\n",
       "    </tr>\n",
       "    <tr>\n",
       "      <th>mean</th>\n",
       "      <td>1.245300e+09</td>\n",
       "      <td>1.662883e+05</td>\n",
       "      <td>1.767381e+03</td>\n",
       "    </tr>\n",
       "    <tr>\n",
       "      <th>std</th>\n",
       "      <td>7.750953e+05</td>\n",
       "      <td>9.842756e+04</td>\n",
       "      <td>1.012042e+03</td>\n",
       "    </tr>\n",
       "    <tr>\n",
       "      <th>min</th>\n",
       "      <td>1.243770e+09</td>\n",
       "      <td>2.000000e+00</td>\n",
       "      <td>1.000000e+00</td>\n",
       "    </tr>\n",
       "    <tr>\n",
       "      <th>25%</th>\n",
       "      <td>1.244635e+09</td>\n",
       "      <td>7.905100e+04</td>\n",
       "      <td>8.560000e+02</td>\n",
       "    </tr>\n",
       "    <tr>\n",
       "      <th>50%</th>\n",
       "      <td>1.245307e+09</td>\n",
       "      <td>1.660930e+05</td>\n",
       "      <td>1.774000e+03</td>\n",
       "    </tr>\n",
       "    <tr>\n",
       "      <th>75%</th>\n",
       "      <td>1.245961e+09</td>\n",
       "      <td>2.515810e+05</td>\n",
       "      <td>2.666000e+03</td>\n",
       "    </tr>\n",
       "    <tr>\n",
       "      <th>max</th>\n",
       "      <td>1.246793e+09</td>\n",
       "      <td>3.362240e+05</td>\n",
       "      <td>3.553000e+03</td>\n",
       "    </tr>\n",
       "  </tbody>\n",
       "</table>\n",
       "</div>"
      ],
      "text/plain": [
       "               time          user          post\n",
       "count  3.018197e+06  3.018197e+06  3.018197e+06\n",
       "mean   1.245300e+09  1.662883e+05  1.767381e+03\n",
       "std    7.750953e+05  9.842756e+04  1.012042e+03\n",
       "min    1.243770e+09  2.000000e+00  1.000000e+00\n",
       "25%    1.244635e+09  7.905100e+04  8.560000e+02\n",
       "50%    1.245307e+09  1.660930e+05  1.774000e+03\n",
       "75%    1.245961e+09  2.515810e+05  2.666000e+03\n",
       "max    1.246793e+09  3.362240e+05  3.553000e+03"
      ]
     },
     "execution_count": 6,
     "metadata": {},
     "output_type": "execute_result"
    }
   ],
   "source": [
    "votes = pd.read_csv(file_votes,header=None)\n",
    "votes.columns = ['time','user','post']\n",
    "votes = votes.sort_values(by=[\"time\"])\n",
    "votes.describe()"
   ]
  },
  {
   "cell_type": "code",
   "execution_count": 7,
   "metadata": {
    "scrolled": true
   },
   "outputs": [
    {
     "data": {
      "text/html": [
       "<div>\n",
       "<style scoped>\n",
       "    .dataframe tbody tr th:only-of-type {\n",
       "        vertical-align: middle;\n",
       "    }\n",
       "\n",
       "    .dataframe tbody tr th {\n",
       "        vertical-align: top;\n",
       "    }\n",
       "\n",
       "    .dataframe thead th {\n",
       "        text-align: right;\n",
       "    }\n",
       "</style>\n",
       "<table border=\"1\" class=\"dataframe\">\n",
       "  <thead>\n",
       "    <tr style=\"text-align: right;\">\n",
       "      <th></th>\n",
       "      <th>time</th>\n",
       "      <th>user</th>\n",
       "    </tr>\n",
       "  </thead>\n",
       "  <tbody>\n",
       "    <tr>\n",
       "      <th>count</th>\n",
       "      <td>3.530000e+02</td>\n",
       "      <td>353.000000</td>\n",
       "    </tr>\n",
       "    <tr>\n",
       "      <th>mean</th>\n",
       "      <td>1.246574e+09</td>\n",
       "      <td>164842.954674</td>\n",
       "    </tr>\n",
       "    <tr>\n",
       "      <th>std</th>\n",
       "      <td>3.345080e+04</td>\n",
       "      <td>99752.800587</td>\n",
       "    </tr>\n",
       "    <tr>\n",
       "      <th>min</th>\n",
       "      <td>1.246542e+09</td>\n",
       "      <td>736.000000</td>\n",
       "    </tr>\n",
       "    <tr>\n",
       "      <th>25%</th>\n",
       "      <td>1.246560e+09</td>\n",
       "      <td>70227.000000</td>\n",
       "    </tr>\n",
       "    <tr>\n",
       "      <th>50%</th>\n",
       "      <td>1.246563e+09</td>\n",
       "      <td>165027.000000</td>\n",
       "    </tr>\n",
       "    <tr>\n",
       "      <th>75%</th>\n",
       "      <td>1.246574e+09</td>\n",
       "      <td>251140.000000</td>\n",
       "    </tr>\n",
       "    <tr>\n",
       "      <th>max</th>\n",
       "      <td>1.246761e+09</td>\n",
       "      <td>336001.000000</td>\n",
       "    </tr>\n",
       "  </tbody>\n",
       "</table>\n",
       "</div>"
      ],
      "text/plain": [
       "               time           user\n",
       "count  3.530000e+02     353.000000\n",
       "mean   1.246574e+09  164842.954674\n",
       "std    3.345080e+04   99752.800587\n",
       "min    1.246542e+09     736.000000\n",
       "25%    1.246560e+09   70227.000000\n",
       "50%    1.246563e+09  165027.000000\n",
       "75%    1.246574e+09  251140.000000\n",
       "max    1.246761e+09  336001.000000"
      ]
     },
     "execution_count": 7,
     "metadata": {},
     "output_type": "execute_result"
    }
   ],
   "source": [
    "# the most popular story is story xxx?\n",
    "story = 17\n",
    "\n",
    "votes_story = votes.loc[votes['post'] == story]\n",
    "votes_story = votes_story.drop(['post'], axis=1)\n",
    "votes_source = votes_story.iloc[0]['user']\n",
    "tmp = votes_story.copy()\n",
    "votes_story.describe()"
   ]
  },
  {
   "cell_type": "code",
   "execution_count": 8,
   "metadata": {
    "scrolled": true
   },
   "outputs": [
    {
     "data": {
      "text/html": [
       "<div>\n",
       "<style scoped>\n",
       "    .dataframe tbody tr th:only-of-type {\n",
       "        vertical-align: middle;\n",
       "    }\n",
       "\n",
       "    .dataframe tbody tr th {\n",
       "        vertical-align: top;\n",
       "    }\n",
       "\n",
       "    .dataframe thead th {\n",
       "        text-align: right;\n",
       "    }\n",
       "</style>\n",
       "<table border=\"1\" class=\"dataframe\">\n",
       "  <thead>\n",
       "    <tr style=\"text-align: right;\">\n",
       "      <th></th>\n",
       "      <th>source</th>\n",
       "      <th>target</th>\n",
       "    </tr>\n",
       "  </thead>\n",
       "  <tbody>\n",
       "    <tr>\n",
       "      <th>1</th>\n",
       "      <td>90015</td>\n",
       "      <td>219516</td>\n",
       "    </tr>\n",
       "    <tr>\n",
       "      <th>2</th>\n",
       "      <td>90015</td>\n",
       "      <td>334285</td>\n",
       "    </tr>\n",
       "    <tr>\n",
       "      <th>3</th>\n",
       "      <td>90015</td>\n",
       "      <td>7784</td>\n",
       "    </tr>\n",
       "    <tr>\n",
       "      <th>4</th>\n",
       "      <td>90015</td>\n",
       "      <td>33633</td>\n",
       "    </tr>\n",
       "    <tr>\n",
       "      <th>5</th>\n",
       "      <td>90015</td>\n",
       "      <td>308834</td>\n",
       "    </tr>\n",
       "  </tbody>\n",
       "</table>\n",
       "</div>"
      ],
      "text/plain": [
       "   source  target\n",
       "1   90015  219516\n",
       "2   90015  334285\n",
       "3   90015    7784\n",
       "4   90015   33633\n",
       "5   90015  308834"
      ]
     },
     "execution_count": 8,
     "metadata": {},
     "output_type": "execute_result"
    }
   ],
   "source": [
    "# cross join to get all edges in network graph\n",
    "votes_story['key'] = 0\n",
    "tmp['key'] = 0\n",
    "merged = votes_story.merge(tmp, how='outer', on='key')\n",
    "merged = merged.drop(columns=['key'])\n",
    "merged = merged.loc[merged['time_x'] < merged['time_y']]\n",
    "merged = merged.drop(['time_x', 'time_y'], axis=1)\n",
    "merged.columns = ['source', 'target']\n",
    "merged.head()\n",
    "# merged.describe()"
   ]
  },
  {
   "cell_type": "code",
   "execution_count": 9,
   "metadata": {},
   "outputs": [
    {
     "data": {
      "text/html": [
       "<div>\n",
       "<style scoped>\n",
       "    .dataframe tbody tr th:only-of-type {\n",
       "        vertical-align: middle;\n",
       "    }\n",
       "\n",
       "    .dataframe tbody tr th {\n",
       "        vertical-align: top;\n",
       "    }\n",
       "\n",
       "    .dataframe thead th {\n",
       "        text-align: right;\n",
       "    }\n",
       "</style>\n",
       "<table border=\"1\" class=\"dataframe\">\n",
       "  <thead>\n",
       "    <tr style=\"text-align: right;\">\n",
       "      <th></th>\n",
       "      <th>source</th>\n",
       "      <th>target</th>\n",
       "    </tr>\n",
       "  </thead>\n",
       "  <tbody>\n",
       "    <tr>\n",
       "      <th>0</th>\n",
       "      <td>336001</td>\n",
       "      <td>268747</td>\n",
       "    </tr>\n",
       "    <tr>\n",
       "      <th>1</th>\n",
       "      <td>336001</td>\n",
       "      <td>250189</td>\n",
       "    </tr>\n",
       "    <tr>\n",
       "      <th>2</th>\n",
       "      <td>336001</td>\n",
       "      <td>144354</td>\n",
       "    </tr>\n",
       "    <tr>\n",
       "      <th>3</th>\n",
       "      <td>336001</td>\n",
       "      <td>132423</td>\n",
       "    </tr>\n",
       "    <tr>\n",
       "      <th>4</th>\n",
       "      <td>336001</td>\n",
       "      <td>75729</td>\n",
       "    </tr>\n",
       "  </tbody>\n",
       "</table>\n",
       "</div>"
      ],
      "text/plain": [
       "   source  target\n",
       "0  336001  268747\n",
       "1  336001  250189\n",
       "2  336001  144354\n",
       "3  336001  132423\n",
       "4  336001   75729"
      ]
     },
     "execution_count": 9,
     "metadata": {},
     "output_type": "execute_result"
    }
   ],
   "source": [
    "# keep rows that are in friends_preprocessed df\n",
    "merged_plot = friendship_plot_df.merge(merged, on=['source', 'target'], how='inner')\n",
    "merged_plot.head()"
   ]
  },
  {
   "cell_type": "code",
   "execution_count": 10,
   "metadata": {},
   "outputs": [],
   "source": [
    "# define edges of social network graph by adding entries of adjacent users\n",
    "# votes_story = pd.concat([votes_story, votes_story[['user']].shift(-1)], axis=1, ignore_index=True)\n",
    "# votes_story.drop(votes_story.tail(1).index,inplace=True)\n",
    "# votes_story.columns = ['source', 'target']\n",
    "# votes_story.head()"
   ]
  },
  {
   "cell_type": "code",
   "execution_count": 11,
   "metadata": {
    "scrolled": false
   },
   "outputs": [
    {
     "name": "stderr",
     "output_type": "stream",
     "text": [
      "/Users/mdong/anaconda3/lib/python3.5/site-packages/networkx/drawing/nx_pylab.py:611: MatplotlibDeprecationWarning: isinstance(..., numbers.Number)\n",
      "  if cb.is_numlike(alpha):\n"
     ]
    },
    {
     "data": {
      "image/png": "[encoded data removed]",
      "text/plain": [
       "<Figure size 432x288 with 1 Axes>"
      ]
     },
     "metadata": {},
     "output_type": "display_data"
    }
   ],
   "source": [
    "# plot social network graph for one story\n",
    "G = nx.convert_matrix.from_pandas_edgelist(merged_plot.head(150))\n",
    "position = nx.circular_layout(G)\n",
    "options = {\n",
    "    \"node_color\": \"b\",\n",
    "    \"node_size\": 5,\n",
    "    \"linewidths\": 0,\n",
    "    \"width\": 0.2,\n",
    "}\n",
    "# nx.draw_networkx_nodes(G, position, nodelist=[votes_source], node_color=\"r\")\n",
    "nx.draw(G, **options)\n",
    "# plt.show()"
   ]
  },
  {
   "cell_type": "markdown",
   "metadata": {},
   "source": [
    "## Distance Calculations"
   ]
  },
  {
   "cell_type": "code",
   "execution_count": 12,
   "metadata": {
    "scrolled": false
   },
   "outputs": [
    {
     "data": {
      "text/html": [
       "<div>\n",
       "<style scoped>\n",
       "    .dataframe tbody tr th:only-of-type {\n",
       "        vertical-align: middle;\n",
       "    }\n",
       "\n",
       "    .dataframe tbody tr th {\n",
       "        vertical-align: top;\n",
       "    }\n",
       "\n",
       "    .dataframe thead th {\n",
       "        text-align: right;\n",
       "    }\n",
       "</style>\n",
       "<table border=\"1\" class=\"dataframe\">\n",
       "  <thead>\n",
       "    <tr style=\"text-align: right;\">\n",
       "      <th></th>\n",
       "      <th>source</th>\n",
       "      <th>target</th>\n",
       "    </tr>\n",
       "  </thead>\n",
       "  <tbody>\n",
       "    <tr>\n",
       "      <th>0</th>\n",
       "      <td>336224</td>\n",
       "      <td>266641</td>\n",
       "    </tr>\n",
       "    <tr>\n",
       "      <th>1</th>\n",
       "      <td>336224</td>\n",
       "      <td>215086</td>\n",
       "    </tr>\n",
       "    <tr>\n",
       "      <th>2</th>\n",
       "      <td>336224</td>\n",
       "      <td>151094</td>\n",
       "    </tr>\n",
       "    <tr>\n",
       "      <th>3</th>\n",
       "      <td>336224</td>\n",
       "      <td>59378</td>\n",
       "    </tr>\n",
       "    <tr>\n",
       "      <th>4</th>\n",
       "      <td>336224</td>\n",
       "      <td>8547</td>\n",
       "    </tr>\n",
       "  </tbody>\n",
       "</table>\n",
       "</div>"
      ],
      "text/plain": [
       "   source  target\n",
       "0  336224  266641\n",
       "1  336224  215086\n",
       "2  336224  151094\n",
       "3  336224   59378\n",
       "4  336224    8547"
      ]
     },
     "execution_count": 12,
     "metadata": {},
     "output_type": "execute_result"
    }
   ],
   "source": [
    "friendship_plot_df.head()"
   ]
  },
  {
   "cell_type": "code",
   "execution_count": 13,
   "metadata": {},
   "outputs": [
    {
     "name": "stdout",
     "output_type": "stream",
     "text": [
      "332346\n"
     ]
    },
    {
     "data": {
      "text/html": [
       "<div>\n",
       "<style scoped>\n",
       "    .dataframe tbody tr th:only-of-type {\n",
       "        vertical-align: middle;\n",
       "    }\n",
       "\n",
       "    .dataframe tbody tr th {\n",
       "        vertical-align: top;\n",
       "    }\n",
       "\n",
       "    .dataframe thead th {\n",
       "        text-align: right;\n",
       "    }\n",
       "</style>\n",
       "<table border=\"1\" class=\"dataframe\">\n",
       "  <thead>\n",
       "    <tr style=\"text-align: right;\">\n",
       "      <th></th>\n",
       "      <th>time</th>\n",
       "      <th>user</th>\n",
       "      <th>post</th>\n",
       "    </tr>\n",
       "  </thead>\n",
       "  <tbody>\n",
       "    <tr>\n",
       "      <th>635382</th>\n",
       "      <td>1245966217</td>\n",
       "      <td>266353</td>\n",
       "      <td>714</td>\n",
       "    </tr>\n",
       "    <tr>\n",
       "      <th>633072</th>\n",
       "      <td>1245966220</td>\n",
       "      <td>234047</td>\n",
       "      <td>714</td>\n",
       "    </tr>\n",
       "    <tr>\n",
       "      <th>617426</th>\n",
       "      <td>1245966232</td>\n",
       "      <td>16255</td>\n",
       "      <td>714</td>\n",
       "    </tr>\n",
       "    <tr>\n",
       "      <th>631543</th>\n",
       "      <td>1245966242</td>\n",
       "      <td>212449</td>\n",
       "      <td>714</td>\n",
       "    </tr>\n",
       "    <tr>\n",
       "      <th>633006</th>\n",
       "      <td>1245966253</td>\n",
       "      <td>233093</td>\n",
       "      <td>714</td>\n",
       "    </tr>\n",
       "  </tbody>\n",
       "</table>\n",
       "</div>"
      ],
      "text/plain": [
       "              time    user  post\n",
       "635382  1245966217  266353   714\n",
       "633072  1245966220  234047   714\n",
       "617426  1245966232   16255   714\n",
       "631543  1245966242  212449   714\n",
       "633006  1245966253  233093   714"
      ]
     },
     "execution_count": 13,
     "metadata": {},
     "output_type": "execute_result"
    }
   ],
   "source": [
    "# the most popular story is story xxx?\n",
    "story = 714\n",
    "\n",
    "votes_story = votes.loc[votes['post'] == story]\n",
    "votes_714 = votes_story.copy()\n",
    "\n",
    "# define source\n",
    "source = votes_story.iloc[0]['user']\n",
    "votes_story = votes_story.iloc[1:]  # drop source\n",
    "print(source)\n",
    "votes_story.head()"
   ]
  },
  {
   "cell_type": "code",
   "execution_count": 14,
   "metadata": {},
   "outputs": [],
   "source": [
    "friends_of_source = friendship_plot_df.loc[friendship_plot_df['target'] == source]\n",
    "friends_of_source = friends_of_source['source'].tolist()\n",
    "# friends_of_source.describe()"
   ]
  },
  {
   "cell_type": "code",
   "execution_count": 15,
   "metadata": {
    "scrolled": false
   },
   "outputs": [
    {
     "data": {
      "text/html": [
       "<div>\n",
       "<style scoped>\n",
       "    .dataframe tbody tr th:only-of-type {\n",
       "        vertical-align: middle;\n",
       "    }\n",
       "\n",
       "    .dataframe tbody tr th {\n",
       "        vertical-align: top;\n",
       "    }\n",
       "\n",
       "    .dataframe thead th {\n",
       "        text-align: right;\n",
       "    }\n",
       "</style>\n",
       "<table border=\"1\" class=\"dataframe\">\n",
       "  <thead>\n",
       "    <tr style=\"text-align: right;\">\n",
       "      <th></th>\n",
       "      <th>time</th>\n",
       "      <th>user</th>\n",
       "      <th>post</th>\n",
       "    </tr>\n",
       "  </thead>\n",
       "  <tbody>\n",
       "    <tr>\n",
       "      <th>635382</th>\n",
       "      <td>1245966217</td>\n",
       "      <td>266353</td>\n",
       "      <td>714</td>\n",
       "    </tr>\n",
       "    <tr>\n",
       "      <th>633072</th>\n",
       "      <td>1245966220</td>\n",
       "      <td>234047</td>\n",
       "      <td>714</td>\n",
       "    </tr>\n",
       "    <tr>\n",
       "      <th>630547</th>\n",
       "      <td>1245966264</td>\n",
       "      <td>199866</td>\n",
       "      <td>714</td>\n",
       "    </tr>\n",
       "    <tr>\n",
       "      <th>622391</th>\n",
       "      <td>1245966280</td>\n",
       "      <td>83538</td>\n",
       "      <td>714</td>\n",
       "    </tr>\n",
       "    <tr>\n",
       "      <th>634547</th>\n",
       "      <td>1245966288</td>\n",
       "      <td>254792</td>\n",
       "      <td>714</td>\n",
       "    </tr>\n",
       "  </tbody>\n",
       "</table>\n",
       "</div>"
      ],
      "text/plain": [
       "              time    user  post\n",
       "635382  1245966217  266353   714\n",
       "633072  1245966220  234047   714\n",
       "630547  1245966264  199866   714\n",
       "622391  1245966280   83538   714\n",
       "634547  1245966288  254792   714"
      ]
     },
     "execution_count": 15,
     "metadata": {},
     "output_type": "execute_result"
    }
   ],
   "source": [
    "# find distance 1 voters\n",
    "dist_1_users = votes_story.loc[votes_story['user'].isin(friends_of_source)]\n",
    "dist_1_users = dist_1_users['user'].tolist()\n",
    "\n",
    "votes_story = votes_story.loc[~votes_story['user'].isin(dist_1_users)]\n",
    "votes_story.head()"
   ]
  },
  {
   "cell_type": "code",
   "execution_count": 16,
   "metadata": {},
   "outputs": [],
   "source": [
    "# all friend at distance 2 (regardless of whether they voted)\n",
    "dist_2_friends = []\n",
    "friends = friendship_plot_df.loc[friendship_plot_df['target'].isin(friends_of_source)]\n",
    "dist_2_friends = friends['source'].tolist()\n",
    "\n",
    "# find distance 2 voters\n",
    "dist_2_users = votes_story.loc[votes_story['user'].isin(dist_2_friends)]\n",
    "dist_2_users = dist_2_users['user'].tolist()\n",
    "votes_story = votes_story.loc[~votes_story['user'].isin(dist_2_users)]\n",
    "# dist_2_users"
   ]
  },
  {
   "cell_type": "code",
   "execution_count": 17,
   "metadata": {},
   "outputs": [],
   "source": [
    "# all friend at distance 3 (regardless of whether they voted)\n",
    "dist_3_friends = []\n",
    "friends = friendship_plot_df.loc[friendship_plot_df['target'].isin(dist_2_friends)]\n",
    "dist_3_friends = friends['source'].tolist()\n",
    "\n",
    "# find distance 3 voters\n",
    "dist_3_users = votes_story.loc[votes_story['user'].isin(dist_3_friends)]\n",
    "dist_3_users = dist_3_users['user'].tolist()\n",
    "votes_story = votes_story.loc[~votes_story['user'].isin(dist_3_users)]\n",
    "# dist_3_users"
   ]
  },
  {
   "cell_type": "code",
   "execution_count": 18,
   "metadata": {},
   "outputs": [],
   "source": [
    "# all friend at distance 4 (regardless of whether they voted)\n",
    "dist_4_friends = []\n",
    "friends = friendship_plot_df.loc[friendship_plot_df['target'].isin(dist_3_friends)]\n",
    "dist_4_friends = friends['source'].tolist()\n",
    "\n",
    "# find distance 4 voters\n",
    "dist_4_users = votes_story.loc[votes_story['user'].isin(dist_4_friends)]\n",
    "dist_4_users = dist_4_users['user'].tolist()\n",
    "votes_story = votes_story.loc[~votes_story['user'].isin(dist_4_users)]\n",
    "# dist_4_users"
   ]
  },
  {
   "cell_type": "code",
   "execution_count": 19,
   "metadata": {},
   "outputs": [],
   "source": [
    "# all friend at distance 5 (regardless of whether they voted)\n",
    "dist_5_friends = []\n",
    "friends = friendship_plot_df.loc[friendship_plot_df['target'].isin(dist_4_friends)]\n",
    "dist_5_friends = friends['source'].tolist()\n",
    "\n",
    "# find distance 5 voters\n",
    "dist_5_users = votes_story.loc[votes_story['user'].isin(dist_5_friends)]\n",
    "dist_5_users = dist_5_users['user'].tolist()\n",
    "votes_story = votes_story.loc[~votes_story['user'].isin(dist_5_users)]\n",
    "# dist_5_users"
   ]
  },
  {
   "cell_type": "code",
   "execution_count": 20,
   "metadata": {},
   "outputs": [],
   "source": [
    "# all friend at distance 6 (regardless of whether they voted)\n",
    "dist_6_friends = []\n",
    "friends = friendship_plot_df.loc[friendship_plot_df['target'].isin(dist_5_friends)]\n",
    "dist_6_friends = friends['source'].tolist()\n",
    "\n",
    "# find distance 6 voters\n",
    "dist_6_users = votes_story.loc[votes_story['user'].isin(dist_6_friends)]\n",
    "dist_6_users = dist_6_users['user'].tolist()\n",
    "votes_story = votes_story.loc[~votes_story['user'].isin(dist_6_users)]\n",
    "# dist_6_users"
   ]
  },
  {
   "cell_type": "code",
   "execution_count": 21,
   "metadata": {},
   "outputs": [],
   "source": [
    "# all friend at distance 7 (regardless of whether they voted)\n",
    "dist_7_friends = []\n",
    "friends = friendship_plot_df.loc[friendship_plot_df['target'].isin(dist_6_friends)]\n",
    "dist_7_friends = friends['source'].tolist()\n",
    "\n",
    "# find distance 7 voters\n",
    "dist_7_users = votes_story.loc[votes_story['user'].isin(dist_7_friends)]\n",
    "dist_7_users = dist_7_users['user'].tolist()\n",
    "votes_story = votes_story.loc[~votes_story['user'].isin(dist_7_users)]\n",
    "# dist_7_users"
   ]
  },
  {
   "cell_type": "code",
   "execution_count": 22,
   "metadata": {},
   "outputs": [],
   "source": [
    "# all friend at distance 8 (regardless of whether they voted)\n",
    "dist_8_friends = []\n",
    "friends = friendship_plot_df.loc[friendship_plot_df['target'].isin(dist_7_friends)]\n",
    "dist_8_friends = friends['source'].tolist()\n",
    "\n",
    "# find distance 8 voters\n",
    "dist_8_users = votes_story.loc[votes_story['user'].isin(dist_8_friends)]\n",
    "dist_8_users = dist_8_users['user'].tolist()\n",
    "votes_story = votes_story.loc[~votes_story['user'].isin(dist_8_users)]\n",
    "# dist_8_users"
   ]
  },
  {
   "cell_type": "code",
   "execution_count": 23,
   "metadata": {},
   "outputs": [
    {
     "name": "stdout",
     "output_type": "stream",
     "text": [
      "1557\n",
      "346744\n",
      "1641109\n",
      "1937290\n",
      "2003317\n",
      "2018062\n",
      "2021615\n",
      "2022430\n"
     ]
    }
   ],
   "source": [
    "print(len(friends_of_source))\n",
    "print(len(dist_2_friends))\n",
    "print(len(dist_3_friends))\n",
    "print(len(dist_4_friends))\n",
    "print(len(dist_5_friends))\n",
    "print(len(dist_6_friends))\n",
    "print(len(dist_7_friends))\n",
    "print(len(dist_8_friends))"
   ]
  },
  {
   "cell_type": "code",
   "execution_count": 24,
   "metadata": {},
   "outputs": [],
   "source": [
    "all_friends = [1557, 346744, 1641109, 1937290, 2003317, 2018062, 2021615, 2022430]"
   ]
  },
  {
   "cell_type": "code",
   "execution_count": 25,
   "metadata": {},
   "outputs": [],
   "source": [
    "# create new distance column\n",
    "votes_714['dist'] = 100  # 100 is placeholder for anything greater than 5\n",
    "votes_714.loc[votes_714['user'] == source, 'dist'] = 0\n",
    "votes_714.loc[votes_714['user'].isin(dist_1_users), 'dist'] = 1\n",
    "votes_714.loc[votes_714['user'].isin(dist_2_users), 'dist'] = 2\n",
    "votes_714.loc[votes_714['user'].isin(dist_3_users), 'dist'] = 3\n",
    "votes_714.loc[votes_714['user'].isin(dist_4_users), 'dist'] = 4\n",
    "votes_714.loc[votes_714['user'].isin(dist_5_users), 'dist'] = 5\n",
    "votes_714.loc[votes_714['user'].isin(dist_6_users), 'dist'] = 6\n",
    "votes_714.loc[votes_714['user'].isin(dist_7_users), 'dist'] = 7\n",
    "votes_714.loc[votes_714['user'].isin(dist_8_users), 'dist'] = 8"
   ]
  },
  {
   "cell_type": "code",
   "execution_count": 27,
   "metadata": {
    "scrolled": true
   },
   "outputs": [
    {
     "data": {
      "text/html": [
       "<div>\n",
       "<style scoped>\n",
       "    .dataframe tbody tr th:only-of-type {\n",
       "        vertical-align: middle;\n",
       "    }\n",
       "\n",
       "    .dataframe tbody tr th {\n",
       "        vertical-align: top;\n",
       "    }\n",
       "\n",
       "    .dataframe thead th {\n",
       "        text-align: right;\n",
       "    }\n",
       "</style>\n",
       "<table border=\"1\" class=\"dataframe\">\n",
       "  <thead>\n",
       "    <tr style=\"text-align: right;\">\n",
       "      <th></th>\n",
       "      <th>time</th>\n",
       "      <th>user</th>\n",
       "      <th>dist</th>\n",
       "      <th>post</th>\n",
       "    </tr>\n",
       "  </thead>\n",
       "  <tbody>\n",
       "    <tr>\n",
       "      <th>639992</th>\n",
       "      <td>1245966166</td>\n",
       "      <td>332346</td>\n",
       "      <td>0</td>\n",
       "      <td>714</td>\n",
       "    </tr>\n",
       "    <tr>\n",
       "      <th>635382</th>\n",
       "      <td>1245966217</td>\n",
       "      <td>266353</td>\n",
       "      <td>3</td>\n",
       "      <td>714</td>\n",
       "    </tr>\n",
       "    <tr>\n",
       "      <th>633072</th>\n",
       "      <td>1245966220</td>\n",
       "      <td>234047</td>\n",
       "      <td>2</td>\n",
       "      <td>714</td>\n",
       "    </tr>\n",
       "    <tr>\n",
       "      <th>617426</th>\n",
       "      <td>1245966232</td>\n",
       "      <td>16255</td>\n",
       "      <td>1</td>\n",
       "      <td>714</td>\n",
       "    </tr>\n",
       "    <tr>\n",
       "      <th>631543</th>\n",
       "      <td>1245966242</td>\n",
       "      <td>212449</td>\n",
       "      <td>1</td>\n",
       "      <td>714</td>\n",
       "    </tr>\n",
       "    <tr>\n",
       "      <th>633006</th>\n",
       "      <td>1245966253</td>\n",
       "      <td>233093</td>\n",
       "      <td>1</td>\n",
       "      <td>714</td>\n",
       "    </tr>\n",
       "    <tr>\n",
       "      <th>630547</th>\n",
       "      <td>1245966264</td>\n",
       "      <td>199866</td>\n",
       "      <td>3</td>\n",
       "      <td>714</td>\n",
       "    </tr>\n",
       "    <tr>\n",
       "      <th>627887</th>\n",
       "      <td>1245966278</td>\n",
       "      <td>161333</td>\n",
       "      <td>1</td>\n",
       "      <td>714</td>\n",
       "    </tr>\n",
       "  </tbody>\n",
       "</table>\n",
       "</div>"
      ],
      "text/plain": [
       "              time    user  dist  post\n",
       "639992  1245966166  332346     0   714\n",
       "635382  1245966217  266353     3   714\n",
       "633072  1245966220  234047     2   714\n",
       "617426  1245966232   16255     1   714\n",
       "631543  1245966242  212449     1   714\n",
       "633006  1245966253  233093     1   714\n",
       "630547  1245966264  199866     3   714\n",
       "627887  1245966278  161333     1   714"
      ]
     },
     "execution_count": 27,
     "metadata": {},
     "output_type": "execute_result"
    }
   ],
   "source": [
    "# votes_714.to_csv(\"digg2009/votes_1.csv\", index=False)\n",
    "votes_714[['time', 'user', 'dist', 'post']].head(8)"
   ]
  },
  {
   "cell_type": "code",
   "execution_count": 29,
   "metadata": {
    "scrolled": false
   },
   "outputs": [
    {
     "data": {
      "text/plain": [
       "[101, 560, 1085, 343, 76, 18, 2, 0]"
      ]
     },
     "execution_count": 29,
     "metadata": {},
     "output_type": "execute_result"
    }
   ],
   "source": [
    "votes_first_hour = votes_714.loc[votes_714['time'] <= 1245966166 + 3599]\n",
    "votes = votes_first_hour.groupby('dist').count()['user'].tolist()[1:-1] + [0]\n",
    "votes"
   ]
  },
  {
   "cell_type": "code",
   "execution_count": 41,
   "metadata": {},
   "outputs": [
    {
     "name": "stdout",
     "output_type": "stream",
     "text": [
      "1.0670185278\n",
      "1.0016163292\n",
      "1.0006613569\n",
      "1.0001770671\n",
      "1.0000379378\n",
      "1.0000089195\n",
      "1.0000009893\n",
      "1.0000000000\n"
     ]
    }
   ],
   "source": [
    "inf = np.exp((np.array(votes) / np.array(all_friends)))\n",
    "\n",
    "\n",
    "for i in inf:\n",
    "    print('{0:.10f}'.format(i))"
   ]
  },
  {
   "cell_type": "code",
   "execution_count": 335,
   "metadata": {
    "scrolled": true
   },
   "outputs": [
    {
     "data": {
      "text/plain": [
       "array([ 9351.31663455,  9983.84975659,  9993.38861709,  9998.22948552,\n",
       "        9999.62062919,  9999.91080552,  9999.99010692, 10000.        ])"
      ]
     },
     "execution_count": 335,
     "metadata": {},
     "output_type": "execute_result"
    }
   ],
   "source": [
    "sus = (np.array(all_friends) - np.array(votes)) / np.array(all_friends)\n",
    "sus * 10000"
   ]
  },
  {
   "cell_type": "code",
   "execution_count": 230,
   "metadata": {},
   "outputs": [
    {
     "data": {
      "image/png": "[encoded data removed]",
      "text/plain": [
       "<Figure size 432x288 with 1 Axes>"
      ]
     },
     "metadata": {},
     "output_type": "display_data"
    }
   ],
   "source": [
    "votes_hist = votes_714.loc[votes_714['dist'] <= 10]\n",
    "vc = votes_hist.dist.value_counts().sort_index()\n",
    "ax = vc.plot(kind='bar', color='darkorchid', width=0.8)\n",
    "fig = ax.get_figure()\n",
    "ax.set_xlabel('Distance (Frienship Hops from Initiator)')\n",
    "ax.set_ylabel('Number of Voters')\n",
    "ax.set_title('Distribution of Distances for Post 714')\n",
    "fig.autofmt_xdate()"
   ]
  },
  {
   "cell_type": "code",
   "execution_count": 231,
   "metadata": {},
   "outputs": [
    {
     "data": {
      "text/plain": [
       "array([[<matplotlib.axes._subplots.AxesSubplot object at 0x7fc0782e70b8>]],\n",
       "      dtype=object)"
      ]
     },
     "execution_count": 231,
     "metadata": {},
     "output_type": "execute_result"
    },
    {
     "data": {
      "image/png": "[encoded data removed]",
      "text/plain": [
       "<Figure size 432x288 with 1 Axes>"
      ]
     },
     "metadata": {},
     "output_type": "display_data"
    }
   ],
   "source": [
    "# plot distribution\n",
    "votes_hist = votes_714.loc[votes_714['dist'] <= 10]\n",
    "votes_hist.hist('dist', bins=8, color='darkorchid', rwidth=0.8)\n"
   ]
  },
  {
   "cell_type": "code",
   "execution_count": 232,
   "metadata": {
    "scrolled": true
   },
   "outputs": [
    {
     "ename": "KeyboardInterrupt",
     "evalue": "",
     "output_type": "error",
     "traceback": [
      "\u001b[0;31m---------------------------------------------------------------------------\u001b[0m",
      "\u001b[0;31mKeyboardInterrupt\u001b[0m                         Traceback (most recent call last)",
      "\u001b[0;32m<ipython-input-232-99f83cd5e6c9>\u001b[0m in \u001b[0;36m<module>\u001b[0;34m()\u001b[0m\n\u001b[1;32m      3\u001b[0m \u001b[0mtmp\u001b[0m \u001b[0;34m=\u001b[0m \u001b[0mvotes_714\u001b[0m\u001b[0;34m.\u001b[0m\u001b[0mcopy\u001b[0m\u001b[0;34m(\u001b[0m\u001b[0;34m)\u001b[0m\u001b[0;34m\u001b[0m\u001b[0m\n\u001b[1;32m      4\u001b[0m \u001b[0mtmp\u001b[0m\u001b[0;34m[\u001b[0m\u001b[0;34m'key'\u001b[0m\u001b[0;34m]\u001b[0m \u001b[0;34m=\u001b[0m \u001b[0;36m0\u001b[0m\u001b[0;34m\u001b[0m\u001b[0m\n\u001b[0;32m----> 5\u001b[0;31m \u001b[0mmerged\u001b[0m \u001b[0;34m=\u001b[0m \u001b[0mvotes_714\u001b[0m\u001b[0;34m.\u001b[0m\u001b[0mmerge\u001b[0m\u001b[0;34m(\u001b[0m\u001b[0mtmp\u001b[0m\u001b[0;34m,\u001b[0m \u001b[0mhow\u001b[0m\u001b[0;34m=\u001b[0m\u001b[0;34m'outer'\u001b[0m\u001b[0;34m,\u001b[0m \u001b[0mon\u001b[0m\u001b[0;34m=\u001b[0m\u001b[0;34m'key'\u001b[0m\u001b[0;34m)\u001b[0m\u001b[0;34m\u001b[0m\u001b[0m\n\u001b[0m\u001b[1;32m      6\u001b[0m \u001b[0mmerged\u001b[0m \u001b[0;34m=\u001b[0m \u001b[0mmerged\u001b[0m\u001b[0;34m.\u001b[0m\u001b[0mdrop\u001b[0m\u001b[0;34m(\u001b[0m\u001b[0mcolumns\u001b[0m\u001b[0;34m=\u001b[0m\u001b[0;34m[\u001b[0m\u001b[0;34m'key'\u001b[0m\u001b[0;34m]\u001b[0m\u001b[0;34m)\u001b[0m\u001b[0;34m\u001b[0m\u001b[0m\n\u001b[1;32m      7\u001b[0m \u001b[0mmerged\u001b[0m \u001b[0;34m=\u001b[0m \u001b[0mmerged\u001b[0m\u001b[0;34m.\u001b[0m\u001b[0mloc\u001b[0m\u001b[0;34m[\u001b[0m\u001b[0mmerged\u001b[0m\u001b[0;34m[\u001b[0m\u001b[0;34m'time_x'\u001b[0m\u001b[0;34m]\u001b[0m \u001b[0;34m<\u001b[0m \u001b[0mmerged\u001b[0m\u001b[0;34m[\u001b[0m\u001b[0;34m'time_y'\u001b[0m\u001b[0;34m]\u001b[0m\u001b[0;34m]\u001b[0m\u001b[0;34m\u001b[0m\u001b[0m\n",
      "\u001b[0;32m~/anaconda3/lib/python3.5/site-packages/pandas/core/frame.py\u001b[0m in \u001b[0;36mmerge\u001b[0;34m(self, right, how, on, left_on, right_on, left_index, right_index, sort, suffixes, copy, indicator, validate)\u001b[0m\n\u001b[1;32m   6387\u001b[0m                      \u001b[0mright_on\u001b[0m\u001b[0;34m=\u001b[0m\u001b[0mright_on\u001b[0m\u001b[0;34m,\u001b[0m \u001b[0mleft_index\u001b[0m\u001b[0;34m=\u001b[0m\u001b[0mleft_index\u001b[0m\u001b[0;34m,\u001b[0m\u001b[0;34m\u001b[0m\u001b[0m\n\u001b[1;32m   6388\u001b[0m                      \u001b[0mright_index\u001b[0m\u001b[0;34m=\u001b[0m\u001b[0mright_index\u001b[0m\u001b[0;34m,\u001b[0m \u001b[0msort\u001b[0m\u001b[0;34m=\u001b[0m\u001b[0msort\u001b[0m\u001b[0;34m,\u001b[0m \u001b[0msuffixes\u001b[0m\u001b[0;34m=\u001b[0m\u001b[0msuffixes\u001b[0m\u001b[0;34m,\u001b[0m\u001b[0;34m\u001b[0m\u001b[0m\n\u001b[0;32m-> 6389\u001b[0;31m                      copy=copy, indicator=indicator, validate=validate)\n\u001b[0m\u001b[1;32m   6390\u001b[0m \u001b[0;34m\u001b[0m\u001b[0m\n\u001b[1;32m   6391\u001b[0m     \u001b[0;32mdef\u001b[0m \u001b[0mround\u001b[0m\u001b[0;34m(\u001b[0m\u001b[0mself\u001b[0m\u001b[0;34m,\u001b[0m \u001b[0mdecimals\u001b[0m\u001b[0;34m=\u001b[0m\u001b[0;36m0\u001b[0m\u001b[0;34m,\u001b[0m \u001b[0;34m*\u001b[0m\u001b[0margs\u001b[0m\u001b[0;34m,\u001b[0m \u001b[0;34m**\u001b[0m\u001b[0mkwargs\u001b[0m\u001b[0;34m)\u001b[0m\u001b[0;34m:\u001b[0m\u001b[0;34m\u001b[0m\u001b[0m\n",
      "\u001b[0;32m~/anaconda3/lib/python3.5/site-packages/pandas/core/reshape/merge.py\u001b[0m in \u001b[0;36mmerge\u001b[0;34m(left, right, how, on, left_on, right_on, left_index, right_index, sort, suffixes, copy, indicator, validate)\u001b[0m\n\u001b[1;32m     60\u001b[0m                          \u001b[0mcopy\u001b[0m\u001b[0;34m=\u001b[0m\u001b[0mcopy\u001b[0m\u001b[0;34m,\u001b[0m \u001b[0mindicator\u001b[0m\u001b[0;34m=\u001b[0m\u001b[0mindicator\u001b[0m\u001b[0;34m,\u001b[0m\u001b[0;34m\u001b[0m\u001b[0m\n\u001b[1;32m     61\u001b[0m                          validate=validate)\n\u001b[0;32m---> 62\u001b[0;31m     \u001b[0;32mreturn\u001b[0m \u001b[0mop\u001b[0m\u001b[0;34m.\u001b[0m\u001b[0mget_result\u001b[0m\u001b[0;34m(\u001b[0m\u001b[0;34m)\u001b[0m\u001b[0;34m\u001b[0m\u001b[0m\n\u001b[0m\u001b[1;32m     63\u001b[0m \u001b[0;34m\u001b[0m\u001b[0m\n\u001b[1;32m     64\u001b[0m \u001b[0;34m\u001b[0m\u001b[0m\n",
      "\u001b[0;32m~/anaconda3/lib/python3.5/site-packages/pandas/core/reshape/merge.py\u001b[0m in \u001b[0;36mget_result\u001b[0;34m(self)\u001b[0m\n\u001b[1;32m    566\u001b[0m                 self.left, self.right)\n\u001b[1;32m    567\u001b[0m \u001b[0;34m\u001b[0m\u001b[0m\n\u001b[0;32m--> 568\u001b[0;31m         \u001b[0mjoin_index\u001b[0m\u001b[0;34m,\u001b[0m \u001b[0mleft_indexer\u001b[0m\u001b[0;34m,\u001b[0m \u001b[0mright_indexer\u001b[0m \u001b[0;34m=\u001b[0m \u001b[0mself\u001b[0m\u001b[0;34m.\u001b[0m\u001b[0m_get_join_info\u001b[0m\u001b[0;34m(\u001b[0m\u001b[0;34m)\u001b[0m\u001b[0;34m\u001b[0m\u001b[0m\n\u001b[0m\u001b[1;32m    569\u001b[0m \u001b[0;34m\u001b[0m\u001b[0m\n\u001b[1;32m    570\u001b[0m         \u001b[0mldata\u001b[0m\u001b[0;34m,\u001b[0m \u001b[0mrdata\u001b[0m \u001b[0;34m=\u001b[0m \u001b[0mself\u001b[0m\u001b[0;34m.\u001b[0m\u001b[0mleft\u001b[0m\u001b[0;34m.\u001b[0m\u001b[0m_data\u001b[0m\u001b[0;34m,\u001b[0m \u001b[0mself\u001b[0m\u001b[0;34m.\u001b[0m\u001b[0mright\u001b[0m\u001b[0;34m.\u001b[0m\u001b[0m_data\u001b[0m\u001b[0;34m\u001b[0m\u001b[0m\n",
      "\u001b[0;32m~/anaconda3/lib/python3.5/site-packages/pandas/core/reshape/merge.py\u001b[0m in \u001b[0;36m_get_join_info\u001b[0;34m(self)\u001b[0m\n\u001b[1;32m    775\u001b[0m         \u001b[0;32melse\u001b[0m\u001b[0;34m:\u001b[0m\u001b[0;34m\u001b[0m\u001b[0m\n\u001b[1;32m    776\u001b[0m             (left_indexer,\n\u001b[0;32m--> 777\u001b[0;31m              right_indexer) = self._get_join_indexers()\n\u001b[0m\u001b[1;32m    778\u001b[0m \u001b[0;34m\u001b[0m\u001b[0m\n\u001b[1;32m    779\u001b[0m             \u001b[0;32mif\u001b[0m \u001b[0mself\u001b[0m\u001b[0;34m.\u001b[0m\u001b[0mright_index\u001b[0m\u001b[0;34m:\u001b[0m\u001b[0;34m\u001b[0m\u001b[0m\n",
      "\u001b[0;32m~/anaconda3/lib/python3.5/site-packages/pandas/core/reshape/merge.py\u001b[0m in \u001b[0;36m_get_join_indexers\u001b[0;34m(self)\u001b[0m\n\u001b[1;32m    754\u001b[0m                                   \u001b[0mself\u001b[0m\u001b[0;34m.\u001b[0m\u001b[0mright_join_keys\u001b[0m\u001b[0;34m,\u001b[0m\u001b[0;34m\u001b[0m\u001b[0m\n\u001b[1;32m    755\u001b[0m                                   \u001b[0msort\u001b[0m\u001b[0;34m=\u001b[0m\u001b[0mself\u001b[0m\u001b[0;34m.\u001b[0m\u001b[0msort\u001b[0m\u001b[0;34m,\u001b[0m\u001b[0;34m\u001b[0m\u001b[0m\n\u001b[0;32m--> 756\u001b[0;31m                                   how=self.how)\n\u001b[0m\u001b[1;32m    757\u001b[0m \u001b[0;34m\u001b[0m\u001b[0m\n\u001b[1;32m    758\u001b[0m     \u001b[0;32mdef\u001b[0m \u001b[0m_get_join_info\u001b[0m\u001b[0;34m(\u001b[0m\u001b[0mself\u001b[0m\u001b[0;34m)\u001b[0m\u001b[0;34m:\u001b[0m\u001b[0;34m\u001b[0m\u001b[0m\n",
      "\u001b[0;32m~/anaconda3/lib/python3.5/site-packages/pandas/core/reshape/merge.py\u001b[0m in \u001b[0;36m_get_join_indexers\u001b[0;34m(left_keys, right_keys, sort, how, **kwargs)\u001b[0m\n\u001b[1;32m   1146\u001b[0m     \u001b[0mjoin_func\u001b[0m \u001b[0;34m=\u001b[0m \u001b[0m_join_functions\u001b[0m\u001b[0;34m[\u001b[0m\u001b[0mhow\u001b[0m\u001b[0;34m]\u001b[0m\u001b[0;34m\u001b[0m\u001b[0m\n\u001b[1;32m   1147\u001b[0m \u001b[0;34m\u001b[0m\u001b[0m\n\u001b[0;32m-> 1148\u001b[0;31m     \u001b[0;32mreturn\u001b[0m \u001b[0mjoin_func\u001b[0m\u001b[0;34m(\u001b[0m\u001b[0mlkey\u001b[0m\u001b[0;34m,\u001b[0m \u001b[0mrkey\u001b[0m\u001b[0;34m,\u001b[0m \u001b[0mcount\u001b[0m\u001b[0;34m,\u001b[0m \u001b[0;34m**\u001b[0m\u001b[0mkwargs\u001b[0m\u001b[0;34m)\u001b[0m\u001b[0;34m\u001b[0m\u001b[0m\n\u001b[0m\u001b[1;32m   1149\u001b[0m \u001b[0;34m\u001b[0m\u001b[0m\n\u001b[1;32m   1150\u001b[0m \u001b[0;34m\u001b[0m\u001b[0m\n",
      "\u001b[0;32mpandas/_libs/join.pyx\u001b[0m in \u001b[0;36mpandas._libs.join.full_outer_join\u001b[0;34m()\u001b[0m\n",
      "\u001b[0;32mpandas/_libs/join.pyx\u001b[0m in \u001b[0;36mpandas._libs.join._get_result_indexer\u001b[0;34m()\u001b[0m\n",
      "\u001b[0;32m~/anaconda3/lib/python3.5/site-packages/pandas/core/algorithms.py\u001b[0m in \u001b[0;36mtake_nd\u001b[0;34m(arr, indexer, axis, out, fill_value, mask_info, allow_fill)\u001b[0m\n\u001b[1;32m   1543\u001b[0m \u001b[0;34m\u001b[0m\u001b[0m\n\u001b[1;32m   1544\u001b[0m \u001b[0;34m\u001b[0m\u001b[0m\n\u001b[0;32m-> 1545\u001b[0;31m def take_nd(arr, indexer, axis=0, out=None, fill_value=np.nan, mask_info=None,\n\u001b[0m\u001b[1;32m   1546\u001b[0m             allow_fill=True):\n\u001b[1;32m   1547\u001b[0m     \"\"\"\n",
      "\u001b[0;31mKeyboardInterrupt\u001b[0m: "
     ]
    }
   ],
   "source": [
    "# cross join to get all edges in network graph\n",
    "votes_714['key'] = 0\n",
    "tmp = votes_714.copy()\n",
    "tmp['key'] = 0\n",
    "merged = votes_714.merge(tmp, how='outer', on='key')\n",
    "merged = merged.drop(columns=['key'])\n",
    "merged = merged.loc[merged['time_x'] < merged['time_y']]\n",
    "merged = merged.drop(['time_x', 'time_y'], axis=1)\n",
    "merged = merged[['user_x', 'user_y', 'dist_y']]\n",
    "merged.columns = ['source', 'target', 'dist']\n",
    "merged.head()\n",
    "# merged.describe()\n",
    "\n",
    "# keep rows that are in friends_preprocessed df\n",
    "merged_plot = friendship_plot_df.merge(merged, on=['source', 'target'], how='inner')\n",
    "merged_plot.head()"
   ]
  },
  {
   "cell_type": "code",
   "execution_count": null,
   "metadata": {},
   "outputs": [],
   "source": [
    "# dummy data, Graph and positions\n",
    "G = nx.from_pandas_edgelist(merged_plot.head(150), source='source', target='target', edge_attr='dist')\n",
    "pos = nx.spring_layout(G)\n",
    "\n",
    "# extract the edge weight\n",
    "edge_colors = [a['dist'] for u,v,a in G.edges(data=True)]\n",
    "\n",
    "# draw nodes and edges separately. allows using colormap for edges.\n",
    "nx.draw_networkx_nodes(G, pos=pos, with_labels=False, node_size=5, node_color=\"b\")\n",
    "nx.draw_networkx_edges(G, pos=pos, \n",
    "                       edge_color=edge_colors, \n",
    "                       edge_cmap=plt.cm.cool, \n",
    "                       edge_vmin=1, \n",
    "                       edge_vmax=np.max(edge_colors), \n",
    "                       width=1)\n",
    "\n",
    "sm = plt.cm.ScalarMappable(cmap=plt.cm.cool, norm=plt.Normalize(vmin=1, vmax=np.max(edge_colors)))\n",
    "sm.set_array([])\n",
    "# plt.box(False)\n",
    "plt.axis('off')\n",
    "plt.colorbar(sm)\n",
    "plt.show()"
   ]
  },
  {
   "cell_type": "code",
   "execution_count": null,
   "metadata": {},
   "outputs": [],
   "source": [
    "# plot social network graph for one story\n",
    "G = nx.convert_matrix.from_pandas_edgelist(merged_plot[['user_x', 'user_y']].head(150))\n",
    "pos = nx.spring_layout(G)\n",
    "options = {\n",
    "    \"node_color\": \"b\",\n",
    "    \"node_size\": 5,\n",
    "    \"linewidths\": 0,\n",
    "    \"width\": 0.2,\n",
    "}\n",
    "\n",
    "edge_colors = [merged_plot.iloc[merged_plot['target']==v]['dist'] for u,v,a in G.edges(data=True)]\n",
    "\n",
    "# nx.draw_networkx_nodes(G, position, nodelist=[votes_source], node_color=\"r\")\n",
    "nx.draw(G, **options)\n",
    "# plt.show()"
   ]
  }
 ],
 "metadata": {
  "kernelspec": {
   "display_name": "Python 3",
   "language": "python",
   "name": "python3"
  },
  "language_info": {
   "codemirror_mode": {
    "name": "ipython",
    "version": 3
   },
   "file_extension": ".py",
   "mimetype": "text/x-python",
   "name": "python",
   "nbconvert_exporter": "python",
   "pygments_lexer": "ipython3",
   "version": "3.5.5"
  }
 },
 "nbformat": 4,
 "nbformat_minor": 2
}

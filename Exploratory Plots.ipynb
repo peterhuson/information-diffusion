{
 "cells": [
  {
   "cell_type": "markdown",
   "metadata": {},
   "source": [
    "## Exploratory Plots of Digg Data"
   ]
  },
  {
   "cell_type": "code",
   "execution_count": 2,
   "metadata": {},
   "outputs": [],
   "source": [
    "import numpy as np\n",
    "import pandas as pd\n",
    "import networkx as nx\n",
    "import matplotlib.pyplot as plt\n",
    "\n",
    "# load in data\n",
    "# votes = np.load(\"digg_votes.npy\")\n",
    "# friends = np.load(\"digg_friends.npy\")"
   ]
  },
  {
   "cell_type": "code",
   "execution_count": 3,
   "metadata": {},
   "outputs": [],
   "source": [
    "# extract all network information (compact dataframe of who is friends with whom)\n",
    "# from https://github.com/geopanag/IMINFECTOR/blob/master/digg_preprocessing.py\n",
    "def extract_network(file):\n",
    "    friends = pd.read_csv(file,header=None)\n",
    "    \n",
    "    #--------- Remove self friendships\n",
    "    friends = friends[friends[2]!=friends[3]]\n",
    "    \n",
    "    #--------- Repeat the reciprocal edges and append them\n",
    "    reciprocal = friends[friends[0]==1]\n",
    "    friends = friends.drop(0,1)\n",
    "    reciprocal = reciprocal.drop(0,1)\n",
    "    \n",
    "    #---- Create the reciprocal edge for each pair\n",
    "    tmp = reciprocal[2].copy()\n",
    "    reciprocal[2] = reciprocal[3]\n",
    "    reciprocal[3] = tmp\n",
    "\n",
    "    #--------- Find the edges that already exist in the dataset as reciprocal, and remove them, \n",
    "    #--------- to avoid overwriting the currect time of the reciprocal edges that already exist\n",
    "    to_remove = reciprocal.reset_index().merge(friends,left_on=[2,3],right_on=[2,3]).set_index('index').index\n",
    "    reciprocal = reciprocal.drop(to_remove)\n",
    "    \n",
    "    friends = friends.append(reciprocal)\n",
    "    friends[friends.duplicated([2,3],keep=False)] #-- this should be empty\n",
    "\n",
    "    #----------- Store the weighted follow network\n",
    "    friends.columns = [\"time\",\"a\",\"b\"]\n",
    "    friends = friends[[\"a\",\"b\",\"time\"]]\n",
    "    return friends\n",
    "#     friends.to_csv(\"../digg_network.txt\",index=False,sep=\" \",header=False)\n",
    "\n",
    "\n",
    "# def extract_cascades(file):\n",
    "#     #----------- Derive and store the train and test cascades\n",
    "#     votes = pd.read_csv(file,header=None)\n",
    "#     votes.columns = [\"time\",\"user\",\"post\"]\n",
    "#     votes = votes.sort_values(by=[\"time\"])\n",
    "    \n",
    "#     #---- Find the threshold after which the cascades are test cascades (final 20% of cascades)\n",
    "#     start_times = votes.groupby(\"post\")[\"time\"].min() #--- take into consideration only the starting time of each cascade\n",
    "#     start_times = start_times.sort_values()\n",
    "#     no_test_cascades = round(20*len(start_times)/100)\n",
    "#     threshold = min(start_times.tail(no_test_cascades))\n",
    "#     #sum(start_times<threshold )/start_times.shape[0]\n",
    "    \n",
    "#     f_train = open(\"train_cascades.txt\",\"w\")\n",
    "#     f_test = open(\"test_cascades.txt\",\"w\")\n",
    "\n",
    "#     #--------- For each cascade\n",
    "#     for i in votes[\"post\"].unique():\n",
    "#         print(i)\n",
    "#         sub = votes[votes[\"post\"]==i]\n",
    "#         s = \"\"\n",
    "    \n",
    "#         #---- id:time, id:time etc...\n",
    "#         for post in sub.sort_values(by=['time']).iterrows():\n",
    "#             s = s+str(post[1][\"user\"])+\" \"+str(post[1][\"time\"])+\";\"#\":\"+str(post[1][\"time\"])+\",\"\n",
    "#         s = s[:-1]\n",
    "    \n",
    "#         #---- Check if it has started before or after the threshold\n",
    "#         if(min(sub[\"time\"])<threshold):\n",
    "#             f_train.write(s+\"\\n\")\n",
    "#         else:\n",
    "#             f_test.write(s+\"\\n\")\n",
    "#     f_train.close()\n",
    "#     f_test.close()"
   ]
  },
  {
   "cell_type": "code",
   "execution_count": 4,
   "metadata": {},
   "outputs": [
    {
     "data": {
      "text/html": [
       "<div>\n",
       "<style scoped>\n",
       "    .dataframe tbody tr th:only-of-type {\n",
       "        vertical-align: middle;\n",
       "    }\n",
       "\n",
       "    .dataframe tbody tr th {\n",
       "        vertical-align: top;\n",
       "    }\n",
       "\n",
       "    .dataframe thead th {\n",
       "        text-align: right;\n",
       "    }\n",
       "</style>\n",
       "<table border=\"1\" class=\"dataframe\">\n",
       "  <thead>\n",
       "    <tr style=\"text-align: right;\">\n",
       "      <th></th>\n",
       "      <th>source</th>\n",
       "      <th>target</th>\n",
       "      <th>time</th>\n",
       "    </tr>\n",
       "  </thead>\n",
       "  <tbody>\n",
       "    <tr>\n",
       "      <th>count</th>\n",
       "      <td>2.251166e+06</td>\n",
       "      <td>2.251166e+06</td>\n",
       "      <td>2.251166e+06</td>\n",
       "    </tr>\n",
       "    <tr>\n",
       "      <th>mean</th>\n",
       "      <td>1.687565e+05</td>\n",
       "      <td>1.704176e+05</td>\n",
       "      <td>1.218754e+09</td>\n",
       "    </tr>\n",
       "    <tr>\n",
       "      <th>std</th>\n",
       "      <td>9.800988e+04</td>\n",
       "      <td>9.838381e+04</td>\n",
       "      <td>4.173192e+07</td>\n",
       "    </tr>\n",
       "    <tr>\n",
       "      <th>min</th>\n",
       "      <td>1.000000e+00</td>\n",
       "      <td>1.000000e+00</td>\n",
       "      <td>0.000000e+00</td>\n",
       "    </tr>\n",
       "    <tr>\n",
       "      <th>25%</th>\n",
       "      <td>8.286500e+04</td>\n",
       "      <td>8.489300e+04</td>\n",
       "      <td>1.207766e+09</td>\n",
       "    </tr>\n",
       "    <tr>\n",
       "      <th>50%</th>\n",
       "      <td>1.675950e+05</td>\n",
       "      <td>1.698670e+05</td>\n",
       "      <td>1.223239e+09</td>\n",
       "    </tr>\n",
       "    <tr>\n",
       "      <th>75%</th>\n",
       "      <td>2.549290e+05</td>\n",
       "      <td>2.576040e+05</td>\n",
       "      <td>1.236996e+09</td>\n",
       "    </tr>\n",
       "    <tr>\n",
       "      <th>max</th>\n",
       "      <td>3.362250e+05</td>\n",
       "      <td>3.362250e+05</td>\n",
       "      <td>1.247033e+09</td>\n",
       "    </tr>\n",
       "  </tbody>\n",
       "</table>\n",
       "</div>"
      ],
      "text/plain": [
       "             source        target          time\n",
       "count  2.251166e+06  2.251166e+06  2.251166e+06\n",
       "mean   1.687565e+05  1.704176e+05  1.218754e+09\n",
       "std    9.800988e+04  9.838381e+04  4.173192e+07\n",
       "min    1.000000e+00  1.000000e+00  0.000000e+00\n",
       "25%    8.286500e+04  8.489300e+04  1.207766e+09\n",
       "50%    1.675950e+05  1.698670e+05  1.223239e+09\n",
       "75%    2.549290e+05  2.576040e+05  1.236996e+09\n",
       "max    3.362250e+05  3.362250e+05  1.247033e+09"
      ]
     },
     "execution_count": 4,
     "metadata": {},
     "output_type": "execute_result"
    }
   ],
   "source": [
    "file_friends = \"digg2009/digg_friends.csv\"\n",
    "file_votes = \"digg2009/digg_votes.csv\"\n",
    "\n",
    "friendships_df = extract_network(file_friends)\n",
    "friendships_df = friendships_df.rename(columns={'a': 'source', 'b': 'target', 'time':'time'})\n",
    "\n",
    "friendships_df.describe()\n",
    "# digg_extract_cascades(file_casc)"
   ]
  },
  {
   "cell_type": "code",
   "execution_count": 25,
   "metadata": {},
   "outputs": [
    {
     "data": {
      "text/html": [
       "<div>\n",
       "<style scoped>\n",
       "    .dataframe tbody tr th:only-of-type {\n",
       "        vertical-align: middle;\n",
       "    }\n",
       "\n",
       "    .dataframe tbody tr th {\n",
       "        vertical-align: top;\n",
       "    }\n",
       "\n",
       "    .dataframe thead th {\n",
       "        text-align: right;\n",
       "    }\n",
       "</style>\n",
       "<table border=\"1\" class=\"dataframe\">\n",
       "  <thead>\n",
       "    <tr style=\"text-align: right;\">\n",
       "      <th></th>\n",
       "      <th>source</th>\n",
       "      <th>target</th>\n",
       "    </tr>\n",
       "  </thead>\n",
       "  <tbody>\n",
       "    <tr>\n",
       "      <th>0</th>\n",
       "      <td>336224</td>\n",
       "      <td>266641</td>\n",
       "    </tr>\n",
       "    <tr>\n",
       "      <th>1</th>\n",
       "      <td>336224</td>\n",
       "      <td>215086</td>\n",
       "    </tr>\n",
       "    <tr>\n",
       "      <th>2</th>\n",
       "      <td>336224</td>\n",
       "      <td>151094</td>\n",
       "    </tr>\n",
       "    <tr>\n",
       "      <th>3</th>\n",
       "      <td>336224</td>\n",
       "      <td>59378</td>\n",
       "    </tr>\n",
       "    <tr>\n",
       "      <th>4</th>\n",
       "      <td>336224</td>\n",
       "      <td>8547</td>\n",
       "    </tr>\n",
       "  </tbody>\n",
       "</table>\n",
       "</div>"
      ],
      "text/plain": [
       "   source  target\n",
       "0  336224  266641\n",
       "1  336224  215086\n",
       "2  336224  151094\n",
       "3  336224   59378\n",
       "4  336224    8547"
      ]
     },
     "execution_count": 25,
     "metadata": {},
     "output_type": "execute_result"
    }
   ],
   "source": [
    "friendship_plot_df = friendships_df[['source', 'target']].head(150)\n",
    "friendship_plot_df.head()"
   ]
  },
  {
   "cell_type": "code",
   "execution_count": 26,
   "metadata": {
    "scrolled": true
   },
   "outputs": [
    {
     "name": "stderr",
     "output_type": "stream",
     "text": [
      "/Users/mdong/anaconda3/lib/python3.5/site-packages/networkx/drawing/nx_pylab.py:611: MatplotlibDeprecationWarning: isinstance(..., numbers.Number)\n",
      "  if cb.is_numlike(alpha):\n"
     ]
    },
    {
     "data": {
      "image/png": "[encoded data removed]",
      "text/plain": [
       "<Figure size 432x288 with 1 Axes>"
      ]
     },
     "metadata": {},
     "output_type": "display_data"
    }
   ],
   "source": [
    "# plot of directed graph showing all friendships (currently taking a random sample due to size issues)\n",
    "G = nx.convert_matrix.from_pandas_edgelist(friendship_plot_df)\n",
    "options = {\n",
    "    \"node_color\": \"black\",\n",
    "    \"node_size\": 10,\n",
    "    \"linewidths\": 0,\n",
    "    \"width\": 0.1,\n",
    "}\n",
    "nx.draw(G, **options)\n",
    "plt.show()"
   ]
  },
  {
   "cell_type": "markdown",
   "metadata": {},
   "source": [
    "###### currently, scability of networkx is an issue; look into https://graph-tool.skewed.de/ if we want to graph more points"
   ]
  },
  {
   "cell_type": "markdown",
   "metadata": {},
   "source": [
    "## Plot of social network graph for one story"
   ]
  },
  {
   "cell_type": "code",
   "execution_count": 38,
   "metadata": {},
   "outputs": [],
   "source": [
    "votes = pd.read_csv(file_votes,header=None)\n",
    "votes.columns = ['time','user','post']\n",
    "votes = votes.sort_values(by=[\"time\"])"
   ]
  },
  {
   "cell_type": "code",
   "execution_count": 71,
   "metadata": {
    "scrolled": false
   },
   "outputs": [
    {
     "data": {
      "text/html": [
       "<div>\n",
       "<style scoped>\n",
       "    .dataframe tbody tr th:only-of-type {\n",
       "        vertical-align: middle;\n",
       "    }\n",
       "\n",
       "    .dataframe tbody tr th {\n",
       "        vertical-align: top;\n",
       "    }\n",
       "\n",
       "    .dataframe thead th {\n",
       "        text-align: right;\n",
       "    }\n",
       "</style>\n",
       "<table border=\"1\" class=\"dataframe\">\n",
       "  <thead>\n",
       "    <tr style=\"text-align: right;\">\n",
       "      <th></th>\n",
       "      <th>source</th>\n",
       "      <th>target</th>\n",
       "    </tr>\n",
       "  </thead>\n",
       "  <tbody>\n",
       "    <tr>\n",
       "      <th>358</th>\n",
       "      <td>199749</td>\n",
       "      <td>87621.0</td>\n",
       "    </tr>\n",
       "    <tr>\n",
       "      <th>158</th>\n",
       "      <td>87621</td>\n",
       "      <td>308947.0</td>\n",
       "    </tr>\n",
       "    <tr>\n",
       "      <th>538</th>\n",
       "      <td>308947</td>\n",
       "      <td>314417.0</td>\n",
       "    </tr>\n",
       "    <tr>\n",
       "      <th>551</th>\n",
       "      <td>314417</td>\n",
       "      <td>126941.0</td>\n",
       "    </tr>\n",
       "    <tr>\n",
       "      <th>220</th>\n",
       "      <td>126941</td>\n",
       "      <td>65398.0</td>\n",
       "    </tr>\n",
       "  </tbody>\n",
       "</table>\n",
       "</div>"
      ],
      "text/plain": [
       "     source    target\n",
       "358  199749   87621.0\n",
       "158   87621  308947.0\n",
       "538  308947  314417.0\n",
       "551  314417  126941.0\n",
       "220  126941   65398.0"
      ]
     },
     "execution_count": 71,
     "metadata": {},
     "output_type": "execute_result"
    }
   ],
   "source": [
    "story = 1\n",
    "votes_story = votes.loc[votes['post'] == story]\n",
    "votes_story = votes_story.drop(['post'], axis=1)\n",
    "votes_story = votes_story.drop(['time'], axis=1)\n",
    "# votes_story.head()\n",
    "\n",
    "# define edges of social network graph by adding entries of adjacent users\n",
    "votes_story = pd.concat([votes_story, votes_story[['user']].shift(-1)], axis=1, ignore_index=True)\n",
    "votes_story.drop(votes_story.tail(1).index,inplace=True)\n",
    "votes_story.columns = ['source', 'target']\n",
    "votes_story.head()"
   ]
  },
  {
   "cell_type": "code",
   "execution_count": 72,
   "metadata": {},
   "outputs": [
    {
     "name": "stderr",
     "output_type": "stream",
     "text": [
      "/Users/mdong/anaconda3/lib/python3.5/site-packages/networkx/drawing/nx_pylab.py:611: MatplotlibDeprecationWarning: isinstance(..., numbers.Number)\n",
      "  if cb.is_numlike(alpha):\n"
     ]
    },
    {
     "data": {
      "image/png": "[encoded data removed]",
      "text/plain": [
       "<Figure size 432x288 with 1 Axes>"
      ]
     },
     "metadata": {},
     "output_type": "display_data"
    }
   ],
   "source": [
    "# plot social network graph for one story\n",
    "G = nx.convert_matrix.from_pandas_edgelist(votes_story)\n",
    "options = {\n",
    "    \"node_color\": \"black\",\n",
    "    \"node_size\": 10,\n",
    "    \"linewidths\": 0,\n",
    "    \"width\": 0.1,\n",
    "}\n",
    "nx.draw(G, **options)\n",
    "plt.show()"
   ]
  },
  {
   "cell_type": "code",
   "execution_count": null,
   "metadata": {},
   "outputs": [],
   "source": []
  }
 ],
 "metadata": {
  "kernelspec": {
   "display_name": "Python 3",
   "language": "python",
   "name": "python3"
  },
  "language_info": {
   "codemirror_mode": {
    "name": "ipython",
    "version": 3
   },
   "file_extension": ".py",
   "mimetype": "text/x-python",
   "name": "python",
   "nbconvert_exporter": "python",
   "pygments_lexer": "ipython3",
   "version": "3.5.5"
  }
 },
 "nbformat": 4,
 "nbformat_minor": 2
}

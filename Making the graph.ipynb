{
 "cells": [
  {
   "cell_type": "code",
   "execution_count": 1,
   "metadata": {},
   "outputs": [
    {
     "name": "stdout",
     "output_type": "stream",
     "text": [
      "         0  1       2       3\n",
      "1525734  1  0   39188   39181\n",
      "1378182  0  0   67373  257604\n",
      "1378187  0  0   67373  171835\n",
      "580945   0  0  225886  326248\n",
      "580946   0  0  225886  323337\n"
     ]
    }
   ],
   "source": [
    "import pandas as pd\n",
    "\n",
    "friends = pd.read_csv(\"digg2009/digg_friends.csv\", header = None)\n",
    "\n",
    "friends = friends.drop_duplicates()\n",
    "\n",
    "friends = friends.sort_values(by=[1])\n",
    "\n",
    "print(friends.head())"
   ]
  },
  {
   "cell_type": "markdown",
   "metadata": {},
   "source": [
    "#### Digg_Friends\n",
    "The `friends` table has the following columns:\n",
    " - 0: 1 if the friend follows them back, 0 if not (F4F 🥴)\n",
    " - 1: Unix Timestamp of when they added the friend\n",
    " - 2: Unique id of the user\n",
    " - 3: Unique id of the friend"
   ]
  },
  {
   "cell_type": "code",
   "execution_count": 2,
   "metadata": {},
   "outputs": [],
   "source": [
    "import dynetx as dn\n",
    "g = dn.DynGraph(edge_removal = False)"
   ]
  },
  {
   "cell_type": "code",
   "execution_count": 3,
   "metadata": {},
   "outputs": [],
   "source": [
    "for row in friends.itertuples():\n",
    "#     print(row)\n",
    "    g.add_interaction(u = row[3], v = row[4], t = row[2])"
   ]
  },
  {
   "cell_type": "code",
   "execution_count": null,
   "metadata": {},
   "outputs": [
    {
     "name": "stderr",
     "output_type": "stream",
     "text": [
      "/Library/Frameworks/Python.framework/Versions/3.8/lib/python3.8/site-packages/ndlib/models/DynamicDiffusionModel.py:203: UserWarning: Initial infection missing: a random sample of 5% of graph nodes will be set as infected\n",
      "  warnings.warn('Initial infection missing: a random sample of 5% of graph nodes will be set as infected')\n"
     ]
    }
   ],
   "source": [
    "import networkx as nx\n",
    "import dynetx as dn\n",
    "import ndlib.models.ModelConfig as mc\n",
    "import ndlib.models.dynamic as dm\n",
    "from past.builtins import xrange\n",
    "\n",
    "# Model selection\n",
    "model = dm.DynSIModel(g)\n",
    "\n",
    "# Model Configuration\n",
    "config = mc.Configuration()\n",
    "config.add_model_parameter('beta', 0.01)\n",
    "config.add_model_parameter(\"fraction_infected\", 0.1)\n",
    "model.set_initial_status(config)\n",
    "\n",
    "# Simulate snapshot based execution\n",
    "iterations = model.execute_snapshots()\n",
    "\n",
    "# Simulation interaction graph based execution\n",
    "iterations = model.execute_iterations()"
   ]
  },
  {
   "cell_type": "code",
   "execution_count": null,
   "metadata": {},
   "outputs": [],
   "source": [
    "# trends = model.build_trends(iterations)\n"
   ]
  },
  {
   "cell_type": "code",
   "execution_count": null,
   "metadata": {},
   "outputs": [],
   "source": [
    "from bokeh.io import output_notebook, show\n",
    "from ndlib.viz.bokeh.DiffusionTrend import DiffusionTrend\n",
    "\n",
    "viz = DiffusionTrend(model)\n",
    "p = viz.plot(width=400, height=400)\n",
    "show(p)"
   ]
  },
  {
   "cell_type": "code",
   "execution_count": null,
   "metadata": {},
   "outputs": [],
   "source": [
    "from ndlib.viz.bokeh.DiffusionPrevalence import DiffusionPrevalence\n",
    "\n",
    "viz2 = DiffusionPrevalence(model)\n",
    "p2 = viz2.plot(width=400, height=400)\n",
    "show(p2)"
   ]
  },
  {
   "cell_type": "code",
   "execution_count": null,
   "metadata": {},
   "outputs": [],
   "source": [
    "from ndlib.viz.bokeh.MultiPlot import MultiPlot\n",
    "p3 = viz.plot(width=400, height=400)\n",
    "p4 = viz2.plot(width=400, height=400)\n",
    "vm = MultiPlot()\n",
    "vm.add_plot(p3)\n",
    "vm.add_plot(p4)\n",
    "m = vm.plot()\n",
    "show(m)"
   ]
  },
  {
   "cell_type": "code",
   "execution_count": null,
   "metadata": {},
   "outputs": [],
   "source": []
  }
 ],
 "metadata": {
  "kernelspec": {
   "display_name": "Python 3",
   "language": "python",
   "name": "python3"
  },
  "language_info": {
   "codemirror_mode": {
    "name": "ipython",
    "version": 3
   },
   "file_extension": ".py",
   "mimetype": "text/x-python",
   "name": "python",
   "nbconvert_exporter": "python",
   "pygments_lexer": "ipython3",
   "version": "3.8.0"
  }
 },
 "nbformat": 4,
 "nbformat_minor": 4
}

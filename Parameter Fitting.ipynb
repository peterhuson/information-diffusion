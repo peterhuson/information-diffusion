{
 "cells": [
  {
   "cell_type": "markdown",
   "metadata": {},
   "source": [
    "## Parameter Fitting"
   ]
  },
  {
   "cell_type": "markdown",
   "metadata": {},
   "source": [
    "In order to fit parameters, we first need explicit solutions to all three of our models. I think there may be a way to do it numerically without a closed-form solution, but if we can get that, it'd be the easiest."
   ]
  },
  {
   "cell_type": "markdown",
   "metadata": {},
   "source": [
    "Some resources I've looked into:\n",
    "* https://machinelearningmastery.com/curve-fitting-with-python/\n",
    "* https://lmfit.github.io/lmfit-py/model.html"
   ]
  },
  {
   "cell_type": "markdown",
   "metadata": {},
   "source": [
    "Thoughts: There are lot of tools for curve-fitting, which is essentially what we're trying to do. HOWEVER (and I need to read the paper again), the original paper said that they ued 20 hours to fit the params, which isn't feasible. \n",
    "\n",
    "**Alternatively, I think a good middle ground is to use the params they've already fit to generate our own plots.**\n",
    "\n",
    "**Another option: We fit the data for one news story by hand as a case study (the original paper does this in addition to fitting the model to every single story).**\n",
    "\n",
    "In order to fit the curve we need to:\n",
    "* Find closed form solution (or if none exist, look more into numerical results)\n",
    "* Preprocess data such that we can isolate each variable in a format s.t. we can fit the params\n",
    "* Figure out which method of curve fitting is best"
   ]
  },
  {
   "cell_type": "code",
   "execution_count": null,
   "metadata": {},
   "outputs": [],
   "source": []
  }
 ],
 "metadata": {
  "kernelspec": {
   "display_name": "Python 3",
   "language": "python",
   "name": "python3"
  },
  "language_info": {
   "codemirror_mode": {
    "name": "ipython",
    "version": 3
   },
   "file_extension": ".py",
   "mimetype": "text/x-python",
   "name": "python",
   "nbconvert_exporter": "python",
   "pygments_lexer": "ipython3",
   "version": "3.5.5"
  }
 },
 "nbformat": 4,
 "nbformat_minor": 2
}

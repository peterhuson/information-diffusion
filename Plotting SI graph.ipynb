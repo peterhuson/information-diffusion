{
 "cells": [
  {
   "cell_type": "code",
   "execution_count": 1,
   "metadata": {},
   "outputs": [
    {
     "name": "stdout",
     "output_type": "stream",
     "text": [
      "            0     1  2\n",
      "0  1246573330   318  1\n",
      "1  1246603391   399  1\n",
      "2  1246573479  1749  1\n",
      "3  1246599553  1964  1\n",
      "4  1246568035  4362  1\n",
      "3018197\n"
     ]
    }
   ],
   "source": [
    "import pandas as pd\n",
    "import matplotlib.pyplot as plt\n",
    "\n",
    "votes = pd.read_csv(\"digg2009/digg_votes.csv\", header = None)\n",
    "\n",
    "print(votes.head())\n",
    "print(len(votes))"
   ]
  },
  {
   "cell_type": "markdown",
   "metadata": {},
   "source": [
    "#### Digg_Votes\n",
    "The `votes` table has the following columns:\n",
    " - 0: Unix time stamp of the vote\n",
    " - 1: Unique id of the voter\n",
    " - 2: Unique id of the story"
   ]
  },
  {
   "cell_type": "code",
   "execution_count": 2,
   "metadata": {},
   "outputs": [
    {
     "name": "stdout",
     "output_type": "stream",
     "text": [
      "0    1\n",
      "1    1\n",
      "2    1\n",
      "3    1\n",
      "4    1\n",
      "Name: 2, dtype: int64\n",
      "                 0       1    2\n",
      "616121  1246042182       6  714\n",
      "616122  1245987593       8  714\n",
      "616123  1245971575      10  714\n",
      "616124  1246029005      27  714\n",
      "616125  1245993138      47  714\n",
      "...            ...     ...  ...\n",
      "640215  1245972302  336170  714\n",
      "640216  1245969094  336193  714\n",
      "640217  1245972643  336200  714\n",
      "640218  1246026579  336216  714\n",
      "640219  1245995250  336224  714\n",
      "\n",
      "[24099 rows x 3 columns]\n",
      "24099\n"
     ]
    }
   ],
   "source": [
    "#finding all votes for article 714 \n",
    "print(votes[2].head())\n",
    "votes_2 = votes[votes[2] == 714]\n",
    "\n",
    "print(votes_2)\n",
    "print(len(votes_2))"
   ]
  },
  {
   "cell_type": "code",
   "execution_count": 3,
   "metadata": {},
   "outputs": [
    {
     "name": "stdout",
     "output_type": "stream",
     "text": [
      "24099\n",
      "                 0       1    2\n",
      "639992  1245966166  332346  714\n",
      "635382  1245966217  266353  714\n",
      "633072  1245966220  234047  714\n",
      "617426  1245966232   16255  714\n",
      "631543  1245966242  212449  714\n"
     ]
    }
   ],
   "source": [
    "#sorting the timesteps \n",
    "votes_2 = votes_2.sort_values(by=[0])\n",
    "print(len(votes_2))\n",
    "print(votes_2.head())"
   ]
  },
  {
   "cell_type": "code",
   "execution_count": 4,
   "metadata": {},
   "outputs": [
    {
     "name": "stdout",
     "output_type": "stream",
     "text": [
      "            0  1  2\n",
      "0  1245966166  1  1\n",
      "1  1245966217  1  1\n",
      "2  1245966220  1  1\n",
      "3  1245966232  1  1\n",
      "4  1245966242  1  1\n",
      "17664\n"
     ]
    }
   ],
   "source": [
    "#counting how many votes for each timestep\n",
    "votes_2 = votes_2.groupby([0], as_index = False).count()\n",
    "print(votes_2.head())\n",
    "print(len(votes_2))"
   ]
  },
  {
   "cell_type": "code",
   "execution_count": 5,
   "metadata": {},
   "outputs": [
    {
     "name": "stdout",
     "output_type": "stream",
     "text": [
      "[1245966166 1245966166 1245966217 ... 1246770955 1246782800 1246782972]\n"
     ]
    }
   ],
   "source": [
    "import numpy as np\n",
    "#converting timesteps to a np array \n",
    "timesteps = (votes_2.loc[:,0]).values\n",
    "timesteps = np.concatenate(([1245966166], timesteps))\n",
    "print(timesteps)"
   ]
  },
  {
   "cell_type": "code",
   "execution_count": 6,
   "metadata": {},
   "outputs": [
    {
     "name": "stdout",
     "output_type": "stream",
     "text": [
      "[0.00000000e+00 0.00000000e+00 6.24383268e-05 ... 9.85287816e-01\n",
      " 9.99789424e-01 1.00000000e+00]\n"
     ]
    }
   ],
   "source": [
    "normal_array = (timesteps- np.min(timesteps))/(np.max(timesteps) - np.min(timesteps))\n",
    "print(normal_array)"
   ]
  },
  {
   "cell_type": "code",
   "execution_count": 7,
   "metadata": {},
   "outputs": [
    {
     "name": "stdout",
     "output_type": "stream",
     "text": [
      "Their indices are  (array([   31,    40,    60, ..., 17195, 17296, 17463]),)\n",
      "2\n",
      "17664\n"
     ]
    }
   ],
   "source": [
    "voter_counts = (votes_2.loc[:,1]).values\n",
    "print(\"Their indices are \", np.nonzero(voter_counts > 1))\n",
    "print(voter_counts[31])\n",
    "print(len(voter_counts))"
   ]
  },
  {
   "cell_type": "code",
   "execution_count": 8,
   "metadata": {},
   "outputs": [
    {
     "name": "stdout",
     "output_type": "stream",
     "text": [
      "[0.0000e+00 1.0000e+00 2.0000e+00 ... 2.4097e+04 2.4098e+04 2.4099e+04]\n"
     ]
    }
   ],
   "source": [
    "import numpy as np\n",
    "y1_array = np.zeros(len(voter_counts)+1)\n",
    "                   \n",
    "for i in range(0, len(voter_counts)):\n",
    "    #adding number of voters at each timestep\n",
    "    y1_array[i+1] = y1_array[i] + voter_counts[i]\n",
    "    \n",
    "print(y1_array)"
   ]
  },
  {
   "cell_type": "code",
   "execution_count": 12,
   "metadata": {},
   "outputs": [
    {
     "name": "stdout",
     "output_type": "stream",
     "text": [
      "[2.4099e+04 2.4098e+04 2.4097e+04 ... 2.0000e+00 1.0000e+00 0.0000e+00]\n",
      "17665\n"
     ]
    }
   ],
   "source": [
    "y2_array = max(y1_array)-y1_array\n",
    "print(y2_array)\n",
    "\n",
    "print(len(y2_array))"
   ]
  },
  {
   "cell_type": "code",
   "execution_count": 13,
   "metadata": {},
   "outputs": [
    {
     "data": {
      "image/png": "[encoded data removed]",
      "text/plain": [
       "<Figure size 432x288 with 1 Axes>"
      ]
     },
     "metadata": {
      "needs_background": "light"
     },
     "output_type": "display_data"
    }
   ],
   "source": [
    "import matplotlib.pyplot as plt\n",
    "# line 1 points\n",
    "x1 = normal_array\n",
    "y1 = y1_array\n",
    "# plotting the line 1 points \n",
    "plt.plot(x1, y1, label = \"Infected\")\n",
    "# line 2 points\n",
    "x2 = normal_array\n",
    "y2 = y2_array\n",
    "# plotting the line 2 points \n",
    "plt.plot(x2, y2, label = \"Susceptible\")\n",
    "plt.xlabel('timesteps')\n",
    "# Set the y axis label of the current axis.\n",
    "plt.ylabel('votes')\n",
    "# Set a title of the current axes.\n",
    "plt.title('Susceptible and recovered populations')\n",
    "# show a legend on the plot\n",
    "plt.legend()\n",
    "# Display a figure.\n",
    "plt.show()"
   ]
  },
  {
   "cell_type": "code",
   "execution_count": null,
   "metadata": {},
   "outputs": [],
   "source": []
  }
 ],
 "metadata": {
  "kernelspec": {
   "display_name": "Python 3",
   "language": "python",
   "name": "python3"
  },
  "language_info": {
   "codemirror_mode": {
    "name": "ipython",
    "version": 3
   },
   "file_extension": ".py",
   "mimetype": "text/x-python",
   "name": "python",
   "nbconvert_exporter": "python",
   "pygments_lexer": "ipython3",
   "version": "3.8.0"
  }
 },
 "nbformat": 4,
 "nbformat_minor": 4
}

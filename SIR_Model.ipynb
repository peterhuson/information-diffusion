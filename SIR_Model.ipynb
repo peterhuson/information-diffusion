{
 "cells": [
  {
   "cell_type": "markdown",
   "metadata": {},
   "source": [
    "### SIR model"
   ]
  },
  {
   "cell_type": "markdown",
   "metadata": {},
   "source": [
    "First, we load the necessary Python modules."
   ]
  },
  {
   "cell_type": "code",
   "execution_count": 5,
   "metadata": {},
   "outputs": [],
   "source": [
    "%matplotlib widget\n",
    "\n",
    "import numpy as np\n",
    "import matplotlib.cm as cm\n",
    "import matplotlib.pyplot as plt\n",
    "import matplotlib.animation as animation\n",
    "import matplotlib.colors as colors"
   ]
  },
  {
   "cell_type": "markdown",
   "metadata": {},
   "source": [
    "Next, we define function to compute the second derivative and the overall solution numerically."
   ]
  },
  {
   "cell_type": "code",
   "execution_count": 8,
   "metadata": {},
   "outputs": [],
   "source": [
    "def discrete_laplacian(u):\n",
    "    L = -2*u\n",
    "    L += np.roll(u, -1)\n",
    "    L += np.roll(u, +1)\n",
    "    L[0]   = 2*(-u[0]+u[1])\n",
    "    L[-1] = 2*(-u[-1]+u[-2])\n",
    "    return L\n",
    "\n",
    "def model_update(u, v, delta_t, R0):\n",
    "    u_orig = u\n",
    "    u += (-R0 * u * v + discrete_laplacian(u)) * delta_t\n",
    "    v += (R0 * u_orig * v + discrete_laplacian(v)) * delta_t\n",
    "    return u, v\n",
    "\n",
    "def get_initial_condition(N):\n",
    "    x = np.linspace(0, 1, N)\n",
    "    u = 1 + 0*x\n",
    "    v = 0.1/np.cosh((x+0.05)*100)\n",
    "    return u, v\n",
    "\n",
    "def update_graph(frame_id, updates_per_frame, u, v, delta_t, R0):\n",
    "    global p, q\n",
    "    for n in range(updates_per_frame):\n",
    "        u, v = model_update(u, v, delta_t, R0)\n",
    "        \n",
    "    p = np.vstack((p, u))\n",
    "    q = np.vstack((q, v))\n",
    "    x = np.linspace(0, 1, N)\n",
    "    line1.set_data(x, u)\n",
    "    line2.set_data(x, v)\n",
    "    return [line1,line2]"
   ]
  },
  {
   "cell_type": "markdown",
   "metadata": {},
   "source": [
    "In the next cell, we define the parameters of our model, set the initial condition, and run the animation of the solution."
   ]
  },
  {
   "cell_type": "code",
   "execution_count": 9,
   "metadata": {},
   "outputs": [
    {
     "data": {
      "application/vnd.jupyter.widget-view+json": {
       "model_id": "9ae23cba9d5149b9b0b72ae1dca749f6",
       "version_major": 2,
       "version_minor": 0
      },
      "text/plain": [
       "Canvas(toolbar=Toolbar(toolitems=[('Home', 'Reset original view', 'home', 'home'), ('Back', 'Back to previous …"
      ]
     },
     "metadata": {},
     "output_type": "display_data"
    }
   ],
   "source": [
    "# model parameters\n",
    "R0 = 2  # reproduction number\n",
    "\n",
    "# numerical parameters\n",
    "N = 750          # grid size population size\n",
    "delta_t = 0.005   # time step\n",
    "\n",
    "# animation parameters\n",
    "N_simulation_steps = 15000\n",
    "updates_per_frame = 25\n",
    "\n",
    "# set initial condition\n",
    "u, v = get_initial_condition(N)\n",
    "p = u\n",
    "q = v\n",
    "\n",
    "# compute and animate solution\n",
    "fig = plt.figure()\n",
    "ax  = plt.axes(xlim=(0,1), ylim=(-0.1, 1.1))\n",
    "ax.set_title('Susceptible in green & Infected in red')\n",
    "ax.set_xlabel('Space')\n",
    "line1, = ax.plot([], [], linewidth=2, color = \"green\")\n",
    "line2, = ax.plot([], [], linewidth=2, color = \"red\")\n",
    "\n",
    "animation_arguments = (updates_per_frame, u, v, delta_t, R0)\n",
    "ani = animation.FuncAnimation(fig, update_graph, fargs=animation_arguments,\n",
    "                              frames=int(N_simulation_steps/updates_per_frame),\n",
    "                              interval=5, blit=True, repeat=False)\n",
    "plt.show()"
   ]
  },
  {
   "cell_type": "markdown",
   "metadata": {},
   "source": [
    "Finally, we visualize the solution in a space-time contour plot."
   ]
  },
  {
   "cell_type": "code",
   "execution_count": 10,
   "metadata": {},
   "outputs": [
    {
     "data": {
      "application/vnd.jupyter.widget-view+json": {
       "model_id": "02abe0aef0764bbd9db3919b6ec809b3",
       "version_major": 2,
       "version_minor": 0
      },
      "text/plain": [
       "Canvas(toolbar=Toolbar(toolitems=[('Home', 'Reset original view', 'home', 'home'), ('Back', 'Back to previous …"
      ]
     },
     "metadata": {},
     "output_type": "display_data"
    }
   ],
   "source": [
    "fig, ax = plt.subplots(1, 2, figsize=(6, 3))\n",
    "im0 = ax[0].imshow(p, cmap=cm.Greens, vmin=0, vmax=1, extent=[0,1,0, delta_t*N_simulation_steps],\n",
    "          aspect='auto', origin='lower')\n",
    "ax[0].set_title('Susceptible')\n",
    "ax[0].set_xlabel('Space x')\n",
    "ax[0].set_ylabel('Time t')\n",
    "fig.colorbar(im0, ax=ax[0])\n",
    "im1 = ax[1].imshow(q, cmap=cm.Reds, vmin=0, vmax=1, extent=[0,1,0, delta_t*N_simulation_steps],\n",
    "          aspect='auto', origin='lower')\n",
    "ax[1].set_title('Infected')\n",
    "ax[1].set_xlabel('Space x')\n",
    "ax[1].set_ylabel('Time t')\n",
    "fig.colorbar(im1, ax=ax[1])\n",
    "plt.tight_layout()\n",
    "plt.show()"
   ]
  },
  {
   "cell_type": "code",
   "execution_count": null,
   "metadata": {},
   "outputs": [],
   "source": []
  }
 ],
 "metadata": {
  "kernelspec": {
   "display_name": "Python 3",
   "language": "python",
   "name": "python3"
  },
  "language_info": {
   "codemirror_mode": {
    "name": "ipython",
    "version": 3
   },
   "file_extension": ".py",
   "mimetype": "text/x-python",
   "name": "python",
   "nbconvert_exporter": "python",
   "pygments_lexer": "ipython3",
   "version": "3.8.0"
  }
 },
 "nbformat": 4,
 "nbformat_minor": 4
}

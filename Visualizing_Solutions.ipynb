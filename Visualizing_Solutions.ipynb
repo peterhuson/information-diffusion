{
 "cells": [
  {
   "cell_type": "markdown",
   "metadata": {},
   "source": [
    "## Visualizing Solutions"
   ]
  },
  {
   "cell_type": "code",
   "execution_count": 16,
   "metadata": {},
   "outputs": [],
   "source": [
    "%matplotlib widget\n",
    "\n",
    "## Importing necessary libraries\n",
    "import numpy as np\n",
    "import sympy as sp\n",
    "import matplotlib.pyplot as plt\n",
    "import matplotlib.animation as animation \n",
    "import matplotlib as mpl\n",
    "from mpl_toolkits.mplot3d import Axes3D\n",
    "from math import pi, exp, cos, sin"
   ]
  },
  {
   "cell_type": "markdown",
   "metadata": {},
   "source": [
    "Our first step is to define the function we want to visualize. When studying PDEs, we often consider functions of space and time. To keep things simple, all of our functions in this module will be in terms of one spatial dimension x and one temporal dimension t. The function u(x,t) we want to visualize represents the value of the solution at location x and time t, corresponding, for instance, to the displacement of water or the temperature of a metal rod."
   ]
  },
  {
   "cell_type": "code",
   "execution_count": 17,
   "metadata": {},
   "outputs": [],
   "source": [
    "## We use the functions U=t*sin(x), U=sin(10(x-t)), and U=exp(-x^2/(4t))/sqrt(4πt)\n",
    "## to illustrate different ways to visualize a given function\n",
    "\n",
    "x = sp.symbols ('x')\n",
    "t = sp.symbols ('t')\n",
    "\n",
    "## You can change these functions and the domain on which they are defined below:\n",
    "## Comment out functions by adding a '#' at the beginning of each line,\n",
    "## and uncomment code blocks by removing the leading '#'s.\n",
    "\n",
    "## U(x,t)=t*sin(x)\n",
    "# U = t*sp.sin(x)\n",
    "# c = 2\n",
    "# U = sp.exp(-(x - c*t)**2)\n",
    "# x_domain = (-4,4)\n",
    "# t_domain = (0,2)\n",
    "\n",
    "c = 2\n",
    "a = 0.5\n",
    "# U = 1/sp.sqrt(4*sp.pi*t)*sp.exp((-x**2)/4*t)\n",
    "U = (1/sp.sqrt(4*sp.pi*t))*sp.exp(-((x)**2)/(4*t)) \n",
    "# U = (1/sp.sqrt(4*sp.pi*t))*sp.exp(-((x-c*t)**2)/(4*t)) * sp.exp(t/2)\n",
    "x_domain = (-8,8)\n",
    "t_domain = (0.5,6)\n",
    "\n",
    "\n",
    "## U(x,t)=sin(10(x-t))\n",
    "#U = sp.sin(10*(x-t))\n",
    "#x_domain = (-1,1)\n",
    "#t_domain = (0,1)\n",
    "\n",
    "## U(x,t)=exp(-x^2/(4t))/sqrt(4πt)\n",
    "#U = 1/sp.sqrt(4*sp.pi*t)*sp.exp(-x**2/(4*t))\n",
    "#x_domain = (-8,8)\n",
    "#t_domain = (0.5,10)\n",
    "\n",
    "## Next, we calculate the values of the function on a space-time grid\n",
    "\n",
    "U = sp.lambdify((x,t), U, modules=['numpy'])\n",
    "\n",
    "xVals = np.linspace(x_domain[0], x_domain[1], 1000)\n",
    "tVals = np.linspace(t_domain[0], t_domain[1], 1000)\n",
    "X,T = np.meshgrid(xVals, tVals)\n",
    "outputs = U(X,T)\n",
    "\n",
    "xVals = np.linspace(x_domain[0], x_domain[1], 1000)\n",
    "tVals = np.linspace(t_domain[0], t_domain[1], 500)\n",
    "X,T = np.meshgrid(xVals, tVals)\n",
    "outputsMovie = U(X,T)"
   ]
  },
  {
   "cell_type": "markdown",
   "metadata": {},
   "source": [
    "## Method 1: Visualizing as a surface in 3-space"
   ]
  },
  {
   "cell_type": "code",
   "execution_count": 18,
   "metadata": {},
   "outputs": [],
   "source": [
    "def Surface_Graph(outputs, x_domain, t_domain):\n",
    "    x_vals = np.linspace(x_domain[0], x_domain[1], len(outputs[0]))\n",
    "    t_vals = np.linspace(t_domain[0], t_domain[1], len(outputs))\n",
    "    X,Y = np.meshgrid(x_vals,t_vals)\n",
    "    fig = plt.figure()\n",
    "    ax = fig.add_subplot(111, projection='3d')\n",
    "    ax.set_xlabel('Space x')\n",
    "    ax.set_ylabel('Time t')\n",
    "    ax.set_zlabel('Solution U')\n",
    "    plot = ax.plot_surface(X,Y,outputs,cmap='RdBu')\n",
    "    plt.show()"
   ]
  },
  {
   "cell_type": "code",
   "execution_count": 19,
   "metadata": {},
   "outputs": [
    {
     "data": {
      "application/vnd.jupyter.widget-view+json": {
       "model_id": "88e8cc5b7ec348a1be4c8ccaeec39ec4",
       "version_major": 2,
       "version_minor": 0
      },
      "text/plain": [
       "Canvas(toolbar=Toolbar(toolitems=[('Home', 'Reset original view', 'home', 'home'), ('Back', 'Back to previous …"
      ]
     },
     "metadata": {},
     "output_type": "display_data"
    }
   ],
   "source": [
    "## Plotting the function using a surface graph\n",
    "Surface_Graph(outputs, x_domain, t_domain)"
   ]
  },
  {
   "cell_type": "markdown",
   "metadata": {},
   "source": [
    "## Method 2: Visualizing as a contour plot in 2-space"
   ]
  },
  {
   "cell_type": "code",
   "execution_count": 20,
   "metadata": {},
   "outputs": [],
   "source": [
    "def Contour_Graph(outputs, x_domain, t_domain):\n",
    "    print(len(outputs[0]))\n",
    "    print(len(outputs))\n",
    "    x_vals = np.linspace(x_domain[0],x_domain[1],len(outputs[0]))\n",
    "    t_vals = np.linspace(t_domain[0],t_domain[1],len(outputs))\n",
    "    X,Y = np.meshgrid(x_vals,t_vals)\n",
    "    fig = plt.figure()\n",
    "    ax = fig.add_subplot(111)\n",
    "    plt.contourf(X, Y, outputs, cmap='RdBu')\n",
    "    ax.set_xlabel('Space x')\n",
    "    ax.set_ylabel('Time t')\n",
    "    plt.colorbar()\n",
    "    plt.show()"
   ]
  },
  {
   "cell_type": "code",
   "execution_count": 21,
   "metadata": {},
   "outputs": [
    {
     "name": "stdout",
     "output_type": "stream",
     "text": [
      "1000\n",
      "1000\n"
     ]
    },
    {
     "data": {
      "application/vnd.jupyter.widget-view+json": {
       "model_id": "1d987d6fbe734dd3b12d0d1865cd716d",
       "version_major": 2,
       "version_minor": 0
      },
      "text/plain": [
       "Canvas(toolbar=Toolbar(toolitems=[('Home', 'Reset original view', 'home', 'home'), ('Back', 'Back to previous …"
      ]
     },
     "metadata": {},
     "output_type": "display_data"
    }
   ],
   "source": [
    "## Plotting the function using a contour graph\n",
    "Contour_Graph(outputs, x_domain, t_domain)"
   ]
  },
  {
   "cell_type": "markdown",
   "metadata": {},
   "source": [
    "## Method 3: Visualizing as an animation"
   ]
  },
  {
   "cell_type": "code",
   "execution_count": 22,
   "metadata": {},
   "outputs": [
    {
     "data": {
      "application/vnd.jupyter.widget-view+json": {
       "model_id": "88765b2f64f84e2bb4a3c0ae7308d092",
       "version_major": 2,
       "version_minor": 0
      },
      "text/plain": [
       "Canvas(toolbar=Toolbar(toolitems=[('Home', 'Reset original view', 'home', 'home'), ('Back', 'Back to previous …"
      ]
     },
     "metadata": {},
     "output_type": "display_data"
    }
   ],
   "source": [
    "## Plotting the function using a movie\n",
    "outputs = outputsMovie\n",
    "\n",
    "fig = plt.figure()\n",
    "ax = plt.axes(xlim = x_domain, ylim= (-np.max(outputs)*1.25, np.max(outputs)*1.25))\n",
    "line, = ax.plot([], [], linewidth=2)\n",
    "\n",
    "def init():\n",
    "    line.set_data([], [])\n",
    "    return line,\n",
    "\n",
    "def animate(t):\n",
    "    x = np.linspace(x_domain[0],x_domain[1],len(outputs[0]))\n",
    "    y = outputs[t]\n",
    "    line.set_data(x, y)\n",
    "    return line,\n",
    "\n",
    "anim = animation.FuncAnimation(fig, animate, init_func=init,\n",
    "                               frames=len(outputs)-1, interval=10, blit=True)\n",
    "plt.show()"
   ]
  }
 ],
 "metadata": {
  "kernelspec": {
   "display_name": "apma0360",
   "language": "python",
   "name": "apma0360"
  },
  "language_info": {
   "codemirror_mode": {
    "name": "ipython",
    "version": 3
   },
   "file_extension": ".py",
   "mimetype": "text/x-python",
   "name": "python",
   "nbconvert_exporter": "python",
   "pygments_lexer": "ipython3",
   "version": "3.8.5"
  }
 },
 "nbformat": 4,
 "nbformat_minor": 4
}

{
 "cells": [
  {
   "cell_type": "code",
   "execution_count": 43,
   "metadata": {
    "collapsed": true
   },
   "outputs": [],
   "source": [
    "import numpy as np\n",
    "\n",
    "votes = np.fromregex(\"digg2009/digg_votes.csv\", '\"(\\d+)\",\"(\\d+)\",\"(\\d+)\"', np.uint32)\n",
    "friends = np.fromregex(\"digg2009/digg_friends.csv\", '\"(\\d+)\",\"(\\d+)\",\"(\\d+)\",\"(\\d+)\"', np.uint32)\n"
   ]
  },
  {
   "cell_type": "markdown",
   "source": [
    "#### Digg_Votes\n",
    "The `votes` table has the following columns:\n",
    " - 0: Unix time stamp of the vote\n",
    " - 1: Unique id of the voter\n",
    " - 2: Unique id of the story\n",
    "\n",
    "#### Digg_Friends\n",
    "The `friends` table has the following columns:\n",
    " - 0: 1 if the friend follows them back, 0 if not (F4F 🥴)\n",
    " - 1: Unix Timestamp of when they added the friend\n",
    " - 2: Unique id of the user\n",
    " - 3: Unique id of the friend"
   ],
   "metadata": {
    "collapsed": false
   }
  },
  {
   "cell_type": "code",
   "execution_count": 44,
   "outputs": [
    {
     "name": "stdout",
     "output_type": "stream",
     "text": [
      "3018197 rows,  3 cols,  35.0 MB, \n",
      "1731658 rows,  4 cols,  27.0 MB, \n",
      "583 rows,  3 cols,  1.0 MB, \n",
      "9 rows,  4 cols,  1.0 MB, \n"
     ]
    }
   ],
   "source": [
    "def print_summary(table):\n",
    "    print(table.shape[0], \"rows, \", table.shape[1], \"cols, \", np.ceil(table.nbytes/1048576), \"MB, \",)\n",
    "\n",
    "print_summary(votes)\n",
    "print_summary(friends)\n",
    "\n",
    "votes_for_story_1 = votes[votes[:,2] == 1] # Select storyId = 1\n",
    "print_summary(votes_for_story_1)\n",
    "\n",
    "# Select friendId = 336224\n",
    "# I'm using numpy masks here to select when either column 2 `or` (|) 3 are = 336224.\n",
    "friends_with_user_336224 = friends[(friends[:,2] == 336224) | (friends[:,3] == 336224)]\n",
    "print_summary(friends_with_user_336224)\n"
   ],
   "metadata": {
    "collapsed": false,
    "pycharm": {
     "name": "#%%\n"
    }
   }
  }
 ],
 "metadata": {
  "kernelspec": {
   "name": "python3",
   "language": "python",
   "display_name": "Python 3"
  },
  "language_info": {
   "codemirror_mode": {
    "name": "ipython",
    "version": 2
   },
   "file_extension": ".py",
   "mimetype": "text/x-python",
   "name": "python",
   "nbconvert_exporter": "python",
   "pygments_lexer": "ipython2",
   "version": "2.7.6"
  }
 },
 "nbformat": 4,
 "nbformat_minor": 0
}
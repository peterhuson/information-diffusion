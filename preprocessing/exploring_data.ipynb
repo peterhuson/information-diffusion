{
 "cells": [
  {
   "cell_type": "markdown",
   "metadata": {},
   "source": [
    "##### More info about the data: https://www.isi.edu/~lerman/downloads/digg2009.html"
   ]
  },
  {
   "cell_type": "code",
   "execution_count": 2,
   "metadata": {},
   "outputs": [],
   "source": [
    "import numpy as np\n",
    "\n",
    "# votes = np.fromregex(\"digg2009/digg_votes.csv\", '\"(\\d+)\",\"(\\d+)\",\"(\\d+)\"', np.uint32)\n",
    "# friends = np.fromregex(\"digg2009/digg_friends.csv\", '\"(\\d+)\",\"(\\d+)\",\"(\\d+)\",\"(\\d+)\"', np.uint32)"
   ]
  },
  {
   "cell_type": "code",
   "execution_count": 3,
   "metadata": {},
   "outputs": [
    {
     "ename": "NameError",
     "evalue": "name 'votes' is not defined",
     "output_type": "error",
     "traceback": [
      "\u001b[0;31m---------------------------------------------------------------------------\u001b[0m",
      "\u001b[0;31mNameError\u001b[0m                                 Traceback (most recent call last)",
      "\u001b[0;32m<ipython-input-3-dc0ab2da4942>\u001b[0m in \u001b[0;36m<module>\u001b[0;34m\u001b[0m\n\u001b[1;32m      1\u001b[0m \u001b[0;31m# save these as npy files so we don't need to keep downloading the original csvs\u001b[0m\u001b[0;34m\u001b[0m\u001b[0;34m\u001b[0m\u001b[0;34m\u001b[0m\u001b[0m\n\u001b[1;32m      2\u001b[0m \u001b[0;31m# still big but saves about half the space\u001b[0m\u001b[0;34m\u001b[0m\u001b[0;34m\u001b[0m\u001b[0;34m\u001b[0m\u001b[0m\n\u001b[0;32m----> 3\u001b[0;31m \u001b[0mnp\u001b[0m\u001b[0;34m.\u001b[0m\u001b[0msave\u001b[0m\u001b[0;34m(\u001b[0m\u001b[0;34m\"digg_votes\"\u001b[0m\u001b[0;34m,\u001b[0m \u001b[0mvotes\u001b[0m\u001b[0;34m)\u001b[0m\u001b[0;34m\u001b[0m\u001b[0;34m\u001b[0m\u001b[0m\n\u001b[0m\u001b[1;32m      4\u001b[0m \u001b[0mnp\u001b[0m\u001b[0;34m.\u001b[0m\u001b[0msave\u001b[0m\u001b[0;34m(\u001b[0m\u001b[0;34m\"digg_friends\"\u001b[0m\u001b[0;34m,\u001b[0m \u001b[0mfriends\u001b[0m\u001b[0;34m)\u001b[0m\u001b[0;34m\u001b[0m\u001b[0;34m\u001b[0m\u001b[0m\n\u001b[1;32m      5\u001b[0m \u001b[0;34m\u001b[0m\u001b[0m\n",
      "\u001b[0;31mNameError\u001b[0m: name 'votes' is not defined"
     ]
    }
   ],
   "source": [
    "# save these as npy files so we don't need to keep downloading the original csvs\n",
    "# still big but saves about half the space\n",
    "np.save(\"digg_votes\", votes)\n",
    "np.save(\"digg_friends\", friends)\n",
    "\n",
    "votes = np.load(\"digg_votes.npy\")\n",
    "friends = np.load(\"digg_friends.npy\")"
   ]
  },
  {
   "cell_type": "markdown",
   "metadata": {},
   "source": [
    "#### Digg_Votes\n",
    "The `votes` table has the following columns:\n",
    " - 0: Unix time stamp of the vote\n",
    " - 1: Unique id of the voter\n",
    " - 2: Unique id of the story\n",
    "\n",
    "#### Digg_Friends\n",
    "The `friends` table has the following columns:\n",
    " - 0: 1 if the friend follows them back, 0 if not (F4F 🥴)\n",
    " - 1: Unix Timestamp of when they added the friend\n",
    " - 2: Unique id of the user\n",
    " - 3: Unique id of the friend"
   ]
  },
  {
   "cell_type": "code",
   "execution_count": 5,
   "metadata": {
    "pycharm": {
     "name": "#%%\n"
    }
   },
   "outputs": [
    {
     "name": "stdout",
     "output_type": "stream",
     "text": [
      "3018197 rows,  3 cols,  35.0 MB, \n",
      "1731658 rows,  4 cols,  27.0 MB, \n",
      "583 rows,  3 cols,  1.0 MB, \n",
      "9 rows,  4 cols,  1.0 MB, \n"
     ]
    }
   ],
   "source": [
    "\n",
    "def print_summary(table):\n",
    "    print(table.shape[0], \"rows, \", table.shape[1], \"cols, \", np.ceil(table.nbytes/1048576), \"MB, \",)\n",
    "\n",
    "print_summary(votes)\n",
    "print_summary(friends)\n",
    "\n",
    "votes_for_story_1 = votes[votes[:,2] == 1] # Select storyId = 1\n",
    "print_summary(votes_for_story_1)\n",
    "\n",
    "# Select friendId = 336224\n",
    "# I'm using numpy masks here to select when either column 2 `or` (|) 3 are = 336224.\n",
    "friends_with_user_336224 = friends[(friends[:,2] == 336224) | (friends[:,3] == 336224)]\n",
    "print_summary(friends_with_user_336224)\n"
   ]
  },
  {
   "cell_type": "markdown",
   "metadata": {},
   "source": [
    "#### start of SI model stuff pls ignore"
   ]
  },
  {
   "cell_type": "code",
   "execution_count": 4,
   "metadata": {},
   "outputs": [
    {
     "name": "stdout",
     "output_type": "stream",
     "text": [
      "            0     1  2\n",
      "0  1246573330   318  1\n",
      "1  1246603391   399  1\n",
      "2  1246573479  1749  1\n",
      "3  1246599553  1964  1\n",
      "4  1246568035  4362  1\n",
      "   0           1       2       3\n",
      "0  1  1214799565  336224  266641\n",
      "1  0  1230047012  336224  215086\n",
      "2  1  1194104160  336224  151094\n",
      "3  0  1199180573  336224   59378\n",
      "4  0  1196465462  336224    8547\n"
     ]
    }
   ],
   "source": [
    "import pandas as pd\n",
    "\n",
    "votes = pd.read_csv(\"digg2009/digg_votes.csv\", header = None)\n",
    "friends = pd.read_csv(\"digg2009/digg_friends.csv\", header = None)\n",
    "\n",
    "print(votes.head())\n",
    "print(friends.head())"
   ]
  },
  {
   "cell_type": "code",
   "execution_count": 6,
   "metadata": {},
   "outputs": [
    {
     "name": "stdout",
     "output_type": "stream",
     "text": [
      "     0    1\n",
      "2          \n",
      "1  583  583\n",
      "2  391  391\n",
      "3  534  534\n",
      "4  326  326\n",
      "5  691  691\n",
      "\n",
      "0    714\n",
      "1    714\n",
      "dtype: int64\n",
      "\n",
      "0    24099\n",
      "1    24099\n",
      "dtype: int64\n"
     ]
    }
   ],
   "source": [
    "num_voter = votes.groupby(2).count()\n",
    "print(num_voter.head())\n",
    "max_votes_idx = num_voter.idxmax()\n",
    "print()\n",
    "print(max_votes_idx)\n",
    "\n",
    "max_votes = num_voter.max()\n",
    "print()\n",
    "print(max_votes)"
   ]
  },
  {
   "cell_type": "code",
   "execution_count": 12,
   "metadata": {},
   "outputs": [
    {
     "name": "stdout",
     "output_type": "stream",
     "text": [
      "0    24099\n",
      "1    24099\n",
      "Name: 714, dtype: int64\n",
      "2\n"
     ]
    }
   ],
   "source": [
    "# id of story that has the max votes \n",
    "print(num_voter.loc[714])\n",
    "print(votes.loc[714,2])"
   ]
  },
  {
   "cell_type": "code",
   "execution_count": 29,
   "metadata": {},
   "outputs": [
    {
     "name": "stdout",
     "output_type": "stream",
     "text": [
      "          0    2\n",
      "1               \n",
      "2         4    4\n",
      "5        17   17\n",
      "6        74   74\n",
      "7        26   26\n",
      "8       153  153\n",
      "...     ...  ...\n",
      "336214   16   16\n",
      "336215   30   30\n",
      "336216   87   87\n",
      "336217    1    1\n",
      "336224    3    3\n",
      "\n",
      "[139409 rows x 2 columns]\n",
      "num voters: 336224\n"
     ]
    }
   ],
   "source": [
    "uniq_voters = votes.groupby(1).count()\n",
    "print(uniq_voters)\n",
    "\n",
    "v = votes[1].max()\n",
    "print(\"num voters:\", v)"
   ]
  },
  {
   "cell_type": "code",
   "execution_count": 28,
   "metadata": {},
   "outputs": [
    {
     "name": "stdout",
     "output_type": "stream",
     "text": [
      "         0   1   3\n",
      "2                 \n",
      "5        7   7   7\n",
      "7        1   1   1\n",
      "8        3   3   3\n",
      "10      19  19  19\n",
      "11       1   1   1\n",
      "...     ..  ..  ..\n",
      "336214  10  10  10\n",
      "336215   2   2   2\n",
      "336216  19  19  19\n",
      "336217   4   4   4\n",
      "336224   5   5   5\n",
      "\n",
      "[71367 rows x 3 columns]\n",
      "num users 336224\n"
     ]
    }
   ],
   "source": [
    "f = friends[2].max()\n",
    "print(\"num users:\", f)"
   ]
  },
  {
   "cell_type": "code",
   "execution_count": 36,
   "metadata": {},
   "outputs": [
    {
     "name": "stdout",
     "output_type": "stream",
     "text": [
      "2\n",
      "5          7\n",
      "7          1\n",
      "8          3\n",
      "10        19\n",
      "11         1\n",
      "          ..\n",
      "336214    10\n",
      "336215     2\n",
      "336216    19\n",
      "336217     4\n",
      "336224     5\n",
      "Name: 3, Length: 71367, dtype: int64\n"
     ]
    }
   ],
   "source": [
    "#calculating avg num of friends \n",
    "\n",
    "uniq_fans = friends.groupby(2).count()\n",
    "print(uniq_fans[3])\n",
    "\n"
   ]
  },
  {
   "cell_type": "code",
   "execution_count": 43,
   "metadata": {},
   "outputs": [
    {
     "name": "stdout",
     "output_type": "stream",
     "text": [
      "R0 =  5.15031050728086\n"
     ]
    }
   ],
   "source": [
    "total = uniq_fans[3].sum(axis = 0)\n",
    "#R0 is the contact rate (transmission) so each user has on avg 5.15 fans \n",
    "print(\"R0 = \", total/f)"
   ]
  },
  {
   "cell_type": "code",
   "execution_count": null,
   "metadata": {},
   "outputs": [],
   "source": []
  }
 ],
 "metadata": {
  "kernelspec": {
   "display_name": "Python 3",
   "language": "python",
   "name": "python3"
  },
  "language_info": {
   "codemirror_mode": {
    "name": "ipython",
    "version": 3
   },
   "file_extension": ".py",
   "mimetype": "text/x-python",
   "name": "python",
   "nbconvert_exporter": "python",
   "pygments_lexer": "ipython3",
   "version": "3.8.0"
  }
 },
 "nbformat": 4,
 "nbformat_minor": 1
}
